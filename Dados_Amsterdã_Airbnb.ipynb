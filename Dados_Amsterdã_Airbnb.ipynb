{
  "nbformat": 4,
  "nbformat_minor": 0,
  "metadata": {
    "colab": {
      "name": "Dados_Amsterdã_Airbnb",
      "provenance": [],
      "authorship_tag": "ABX9TyP78tlI/qv3Fvb0yC045Xg1",
      "include_colab_link": true
    },
    "kernelspec": {
      "name": "python3",
      "display_name": "Python 3"
    },
    "language_info": {
      "name": "python"
    }
  },
  "cells": [
    {
      "cell_type": "markdown",
      "metadata": {
        "id": "view-in-github",
        "colab_type": "text"
      },
      "source": [
        "<a href=\"https://colab.research.google.com/github/LeonardoSantoss944/Analise_dos_Dados_do_Airbnb-Amsterda/blob/main/Dados_Amsterd%C3%A3_Airbnb.ipynb\" target=\"_parent\"><img src=\"https://colab.research.google.com/assets/colab-badge.svg\" alt=\"Open In Colab\"/></a>"
      ]
    },
    {
      "cell_type": "markdown",
      "source": [
        "# **Análise dos Dados do Airbnb - Amsterdã**\n",
        "\n",
        "O Airbnb já é considerado como sendo a maior empresa hoteleira da atualidade. Ah, o detalhe é que ele não possui nenhum hotel!\\\n",
        "Conectando pessoas que querem viajar (e se hospedar) com anfitriões que querem alugar seus imóveis de maneira prática, o Airbnb fornece uma plataforma inovadora para tornar essa hospedagem alternativa.\n",
        "\n",
        "<p align=\"center\"><img src=\"https://www.submarinoviagens.com.br/bora-nessa-trip/wp-content/uploads/2019/09/holand-al%C3%A9m-de-amsterda_767410225.jpg\n",
        "\", width=\"50%\"></p>\n",
        "\n",
        "O [Airbnb](\"https://www.airbnb.com.br/\") nasceu em 2007, quando dois anfitriões receberam três hóspedes em sua casa. Atualmente a plataforma conta com 4 milhões de anfitriões que já receberam mais de 1 bilhão de hóspedes em mais de 220 países.\n",
        "\n",
        "Como uma de suas iniciativas o Airbnb disponibiliza dados do seu site sobre algumas cidades do mundo. Os dados podem ser acessados através do site [Inside Airbnb](\"http://insideairbnb.com/get-the-data.html\"), onde podemos baixar uma grande quantidade de dados e usar para as mais diversas análises e soluções.\n",
        "\n",
        "\n",
        "<p align=\"center\"><img src=\"https://nomadesdigitais.com/wp-content/uploads/2014/07/Amsterdam1.jpg\n",
        "\", width=\"50%\"></p>\n",
        "\n",
        "\n",
        "Amsterdã é a capital da Holanda, conhecida por seu patrimônio artístico, um elaborado sistema de canais e casas estreitas com telhados de duas águas, legados da era dourada do século XVII na cidade. O bairro de museus abriga o Museu Van Gogh, o Rijksmuseum, com obras de Rembrandt e Vermeer, e o Stedelijk, que privilegia a arte moderna. O ciclismo é uma característica essencial da cidade, que tem grande quantidade de ciclovias\n",
        "\n",
        "\n",
        "**Neste notebook serão analisados os dados da cidade de Amsterdã na Holanda**"
      ],
      "metadata": {
        "id": "vGxLzM40Sv3O"
      }
    },
    {
      "cell_type": "markdown",
      "source": [
        "## Obtenção dos Dados\n",
        "\n",
        "Os dados usados neste projetos foram obtidos a partir do site [Inside Arbnb](\"http://insideairbnb.com/get-the-data.html\").\n",
        "\n",
        "Para a análise iremos utilizar apenas um arquivo com uma versão reduzida dos dados.\n",
        "\n",
        "* *listing.csv* - \tSummary information and metrics for listings in Amsterdam (good for visualisations)."
      ],
      "metadata": {
        "id": "eOEm8sNAdGzh"
      }
    },
    {
      "cell_type": "code",
      "execution_count": null,
      "metadata": {
        "id": "mpWN0Znq9Cmh"
      },
      "outputs": [],
      "source": [
        "# Importando os pacotes necessários\n",
        "import pandas as pd\n",
        "import matplotlib.pyplot as plt\n",
        "import seaborn as sns\n",
        "\n",
        "%matplotlib inline"
      ]
    },
    {
      "cell_type": "code",
      "source": [
        "# Importando o arquivo listing.csv para um DataFFrame\n",
        "df = pd.read_csv(\"http://data.insideairbnb.com/the-netherlands/north-holland/amsterdam/2021-11-04/visualisations/listings.csv\")\n"
      ],
      "metadata": {
        "id": "rfA73m4Mez9T"
      },
      "execution_count": null,
      "outputs": []
    },
    {
      "cell_type": "markdown",
      "source": [
        "## Análise dos Dados\n",
        "\n",
        "Aqui vamos visualizar e entender como estão estruturados para assim extrair informações úteis."
      ],
      "metadata": {
        "id": "yqzd3Vf8WhN1"
      }
    },
    {
      "cell_type": "markdown",
      "source": [
        "**Dicionário de variáveis**\n",
        "\n",
        "* **id** - número de id gerado para identificar o imóvel;\n",
        "* **name** - nome da propriedade anunciada;\n",
        "* **host_id** - número de id do proprietário (anfitrião) da propriedade;\n",
        "* **host_name** - nome do anfitrião;\n",
        "* **neighbourhood_group** - esta coluna não contém nenhum valor válido;\n",
        "* **neighbourhood** - nome do bairro;\n",
        "* **latitude** - coordenada de latitude da propriedade;\n",
        "* **longitude** -  coordenada de longitude da propriedade;\n",
        "* **room_type** - tipo de quarto oferecido;\n",
        "* **price** - preço para alugar o imóvel;\n",
        "* **minimum_nights** - quantidade mínima de noites para reservar;\n",
        "* **number_of_reviews** - número de avaliações que a propriedade possui;\n",
        "* **last_review** - data da última avaliação;\n",
        "* **reviews_per_month** - quantidade de visualizações por mês;\n",
        "* **calculated_host_listings_count** - quantidade de imóveis da mesma pessoa;\n",
        "* **availability_365** - número de dias disponíveis a cada 365.\n"
      ],
      "metadata": {
        "id": "yeErBc9ZfnZV"
      }
    },
    {
      "cell_type": "code",
      "source": [
        "# mostrar as 5 primeiras entradas\n",
        "df.head()"
      ],
      "metadata": {
        "colab": {
          "base_uri": "https://localhost:8080/",
          "height": 617
        },
        "id": "kZvKb0fRE5T4",
        "outputId": "1a754483-301b-4503-c8ca-940bb2fd47a7"
      },
      "execution_count": null,
      "outputs": [
        {
          "output_type": "execute_result",
          "data": {
            "text/html": [
              "\n",
              "  <div id=\"df-b85f7bec-55fd-4eaf-993b-02dd78d60ad2\">\n",
              "    <div class=\"colab-df-container\">\n",
              "      <div>\n",
              "<style scoped>\n",
              "    .dataframe tbody tr th:only-of-type {\n",
              "        vertical-align: middle;\n",
              "    }\n",
              "\n",
              "    .dataframe tbody tr th {\n",
              "        vertical-align: top;\n",
              "    }\n",
              "\n",
              "    .dataframe thead th {\n",
              "        text-align: right;\n",
              "    }\n",
              "</style>\n",
              "<table border=\"1\" class=\"dataframe\">\n",
              "  <thead>\n",
              "    <tr style=\"text-align: right;\">\n",
              "      <th></th>\n",
              "      <th>id</th>\n",
              "      <th>name</th>\n",
              "      <th>host_id</th>\n",
              "      <th>host_name</th>\n",
              "      <th>neighbourhood_group</th>\n",
              "      <th>neighbourhood</th>\n",
              "      <th>latitude</th>\n",
              "      <th>longitude</th>\n",
              "      <th>room_type</th>\n",
              "      <th>price</th>\n",
              "      <th>minimum_nights</th>\n",
              "      <th>number_of_reviews</th>\n",
              "      <th>last_review</th>\n",
              "      <th>reviews_per_month</th>\n",
              "      <th>calculated_host_listings_count</th>\n",
              "      <th>availability_365</th>\n",
              "      <th>number_of_reviews_ltm</th>\n",
              "      <th>license</th>\n",
              "    </tr>\n",
              "  </thead>\n",
              "  <tbody>\n",
              "    <tr>\n",
              "      <th>0</th>\n",
              "      <td>2818</td>\n",
              "      <td>Quiet Garden View Room &amp; Super Fast WiFi</td>\n",
              "      <td>3159</td>\n",
              "      <td>Daniel</td>\n",
              "      <td>NaN</td>\n",
              "      <td>Oostelijk Havengebied - Indische Buurt</td>\n",
              "      <td>52.36435</td>\n",
              "      <td>4.94358</td>\n",
              "      <td>Private room</td>\n",
              "      <td>59</td>\n",
              "      <td>3</td>\n",
              "      <td>282</td>\n",
              "      <td>2019-11-21</td>\n",
              "      <td>2.83</td>\n",
              "      <td>1</td>\n",
              "      <td>33</td>\n",
              "      <td>4</td>\n",
              "      <td>0363 5F3A 5684 6750 D14D</td>\n",
              "    </tr>\n",
              "    <tr>\n",
              "      <th>1</th>\n",
              "      <td>20168</td>\n",
              "      <td>Studio with private bathroom in the centre 1</td>\n",
              "      <td>59484</td>\n",
              "      <td>Alexander</td>\n",
              "      <td>NaN</td>\n",
              "      <td>Centrum-Oost</td>\n",
              "      <td>52.36407</td>\n",
              "      <td>4.89393</td>\n",
              "      <td>Private room</td>\n",
              "      <td>106</td>\n",
              "      <td>1</td>\n",
              "      <td>339</td>\n",
              "      <td>2020-03-27</td>\n",
              "      <td>3.57</td>\n",
              "      <td>2</td>\n",
              "      <td>0</td>\n",
              "      <td>0</td>\n",
              "      <td>0363 CBB3 2C10 0C2A 1E29</td>\n",
              "    </tr>\n",
              "    <tr>\n",
              "      <th>2</th>\n",
              "      <td>27886</td>\n",
              "      <td>Romantic, stylish B&amp;B houseboat in canal district</td>\n",
              "      <td>97647</td>\n",
              "      <td>Flip</td>\n",
              "      <td>NaN</td>\n",
              "      <td>Centrum-West</td>\n",
              "      <td>52.38761</td>\n",
              "      <td>4.89188</td>\n",
              "      <td>Private room</td>\n",
              "      <td>135</td>\n",
              "      <td>2</td>\n",
              "      <td>226</td>\n",
              "      <td>2021-10-20</td>\n",
              "      <td>2.13</td>\n",
              "      <td>1</td>\n",
              "      <td>22</td>\n",
              "      <td>7</td>\n",
              "      <td>0363 974D 4986 7411 88D8</td>\n",
              "    </tr>\n",
              "    <tr>\n",
              "      <th>3</th>\n",
              "      <td>28871</td>\n",
              "      <td>Comfortable double room</td>\n",
              "      <td>124245</td>\n",
              "      <td>Edwin</td>\n",
              "      <td>NaN</td>\n",
              "      <td>Centrum-West</td>\n",
              "      <td>52.36775</td>\n",
              "      <td>4.89092</td>\n",
              "      <td>Private room</td>\n",
              "      <td>75</td>\n",
              "      <td>2</td>\n",
              "      <td>364</td>\n",
              "      <td>2021-10-15</td>\n",
              "      <td>4.62</td>\n",
              "      <td>2</td>\n",
              "      <td>267</td>\n",
              "      <td>28</td>\n",
              "      <td>0363 607B EA74 0BD8 2F6F</td>\n",
              "    </tr>\n",
              "    <tr>\n",
              "      <th>4</th>\n",
              "      <td>29051</td>\n",
              "      <td>Comfortable single room</td>\n",
              "      <td>124245</td>\n",
              "      <td>Edwin</td>\n",
              "      <td>NaN</td>\n",
              "      <td>Centrum-Oost</td>\n",
              "      <td>52.36584</td>\n",
              "      <td>4.89111</td>\n",
              "      <td>Private room</td>\n",
              "      <td>55</td>\n",
              "      <td>2</td>\n",
              "      <td>509</td>\n",
              "      <td>2021-10-09</td>\n",
              "      <td>5.52</td>\n",
              "      <td>2</td>\n",
              "      <td>282</td>\n",
              "      <td>30</td>\n",
              "      <td>0363 607B EA74 0BD8 2F6F</td>\n",
              "    </tr>\n",
              "  </tbody>\n",
              "</table>\n",
              "</div>\n",
              "      <button class=\"colab-df-convert\" onclick=\"convertToInteractive('df-b85f7bec-55fd-4eaf-993b-02dd78d60ad2')\"\n",
              "              title=\"Convert this dataframe to an interactive table.\"\n",
              "              style=\"display:none;\">\n",
              "        \n",
              "  <svg xmlns=\"http://www.w3.org/2000/svg\" height=\"24px\"viewBox=\"0 0 24 24\"\n",
              "       width=\"24px\">\n",
              "    <path d=\"M0 0h24v24H0V0z\" fill=\"none\"/>\n",
              "    <path d=\"M18.56 5.44l.94 2.06.94-2.06 2.06-.94-2.06-.94-.94-2.06-.94 2.06-2.06.94zm-11 1L8.5 8.5l.94-2.06 2.06-.94-2.06-.94L8.5 2.5l-.94 2.06-2.06.94zm10 10l.94 2.06.94-2.06 2.06-.94-2.06-.94-.94-2.06-.94 2.06-2.06.94z\"/><path d=\"M17.41 7.96l-1.37-1.37c-.4-.4-.92-.59-1.43-.59-.52 0-1.04.2-1.43.59L10.3 9.45l-7.72 7.72c-.78.78-.78 2.05 0 2.83L4 21.41c.39.39.9.59 1.41.59.51 0 1.02-.2 1.41-.59l7.78-7.78 2.81-2.81c.8-.78.8-2.07 0-2.86zM5.41 20L4 18.59l7.72-7.72 1.47 1.35L5.41 20z\"/>\n",
              "  </svg>\n",
              "      </button>\n",
              "      \n",
              "  <style>\n",
              "    .colab-df-container {\n",
              "      display:flex;\n",
              "      flex-wrap:wrap;\n",
              "      gap: 12px;\n",
              "    }\n",
              "\n",
              "    .colab-df-convert {\n",
              "      background-color: #E8F0FE;\n",
              "      border: none;\n",
              "      border-radius: 50%;\n",
              "      cursor: pointer;\n",
              "      display: none;\n",
              "      fill: #1967D2;\n",
              "      height: 32px;\n",
              "      padding: 0 0 0 0;\n",
              "      width: 32px;\n",
              "    }\n",
              "\n",
              "    .colab-df-convert:hover {\n",
              "      background-color: #E2EBFA;\n",
              "      box-shadow: 0px 1px 2px rgba(60, 64, 67, 0.3), 0px 1px 3px 1px rgba(60, 64, 67, 0.15);\n",
              "      fill: #174EA6;\n",
              "    }\n",
              "\n",
              "    [theme=dark] .colab-df-convert {\n",
              "      background-color: #3B4455;\n",
              "      fill: #D2E3FC;\n",
              "    }\n",
              "\n",
              "    [theme=dark] .colab-df-convert:hover {\n",
              "      background-color: #434B5C;\n",
              "      box-shadow: 0px 1px 3px 1px rgba(0, 0, 0, 0.15);\n",
              "      filter: drop-shadow(0px 1px 2px rgba(0, 0, 0, 0.3));\n",
              "      fill: #FFFFFF;\n",
              "    }\n",
              "  </style>\n",
              "\n",
              "      <script>\n",
              "        const buttonEl =\n",
              "          document.querySelector('#df-b85f7bec-55fd-4eaf-993b-02dd78d60ad2 button.colab-df-convert');\n",
              "        buttonEl.style.display =\n",
              "          google.colab.kernel.accessAllowed ? 'block' : 'none';\n",
              "\n",
              "        async function convertToInteractive(key) {\n",
              "          const element = document.querySelector('#df-b85f7bec-55fd-4eaf-993b-02dd78d60ad2');\n",
              "          const dataTable =\n",
              "            await google.colab.kernel.invokeFunction('convertToInteractive',\n",
              "                                                     [key], {});\n",
              "          if (!dataTable) return;\n",
              "\n",
              "          const docLinkHtml = 'Like what you see? Visit the ' +\n",
              "            '<a target=\"_blank\" href=https://colab.research.google.com/notebooks/data_table.ipynb>data table notebook</a>'\n",
              "            + ' to learn more about interactive tables.';\n",
              "          element.innerHTML = '';\n",
              "          dataTable['output_type'] = 'display_data';\n",
              "          await google.colab.output.renderOutput(dataTable, element);\n",
              "          const docLink = document.createElement('div');\n",
              "          docLink.innerHTML = docLinkHtml;\n",
              "          element.appendChild(docLink);\n",
              "        }\n",
              "      </script>\n",
              "    </div>\n",
              "  </div>\n",
              "  "
            ],
            "text/plain": [
              "      id  ...                   license\n",
              "0   2818  ...  0363 5F3A 5684 6750 D14D\n",
              "1  20168  ...  0363 CBB3 2C10 0C2A 1E29\n",
              "2  27886  ...  0363 974D 4986 7411 88D8\n",
              "3  28871  ...  0363 607B EA74 0BD8 2F6F\n",
              "4  29051  ...  0363 607B EA74 0BD8 2F6F\n",
              "\n",
              "[5 rows x 18 columns]"
            ]
          },
          "metadata": {},
          "execution_count": 6
        }
      ]
    },
    {
      "cell_type": "markdown",
      "source": [
        "### **Q1. Quantos atributos (variáveis) e quantas entradas o nosso conjunto de dados possui? Quais os tipos das variáveis?**\n",
        "\n",
        "Vamos identificar a quantidade de entradas e ver os tipos das colunas do conjunto de dados.\n",
        "\n"
      ],
      "metadata": {
        "id": "sgiXw5d9YE75"
      }
    },
    {
      "cell_type": "code",
      "source": [
        "# Identificar o volume de dados do DataFrame\n",
        "print(\"Entradas:\\t {}\".format(df.shape[0]))\n",
        "print(\"Variáveis:\\t {}\\n\".format(df.shape[1]))\n",
        "\n",
        "# Verificar as 5 primeiras entradas do dataset\n",
        "display(df.dtypes)"
      ],
      "metadata": {
        "colab": {
          "base_uri": "https://localhost:8080/",
          "height": 399
        },
        "id": "gaqwkcrkZYst",
        "outputId": "285b3b28-90e5-4758-b475-b4c77879b98f"
      },
      "execution_count": null,
      "outputs": [
        {
          "output_type": "stream",
          "name": "stdout",
          "text": [
            "Entradas:\t 5402\n",
            "Variáveis:\t 18\n",
            "\n"
          ]
        },
        {
          "output_type": "display_data",
          "data": {
            "text/plain": [
              "id                                  int64\n",
              "name                               object\n",
              "host_id                             int64\n",
              "host_name                          object\n",
              "neighbourhood_group               float64\n",
              "neighbourhood                      object\n",
              "latitude                          float64\n",
              "longitude                         float64\n",
              "room_type                          object\n",
              "price                               int64\n",
              "minimum_nights                      int64\n",
              "number_of_reviews                   int64\n",
              "last_review                        object\n",
              "reviews_per_month                 float64\n",
              "calculated_host_listings_count      int64\n",
              "availability_365                    int64\n",
              "number_of_reviews_ltm               int64\n",
              "license                            object\n",
              "dtype: object"
            ]
          },
          "metadata": {}
        }
      ]
    },
    {
      "cell_type": "markdown",
      "source": [
        "### **Q2. Qual a porcentagem de valores ausentes no dataset?**\n",
        "\n",
        "A quantidade de dados ausentes é determinante na qualidade dos dados do dataset. Por isso é importante saber o quão significantes são os valores nulos se comparados as entradas\n",
        "\n",
        "* é possivel notar que as colunas *review_per_month* e *last_review* possuem mais de 8% de seus dados faltantes;\n",
        "* A coluna *neighbourhood* possui 100% de seus dados faltantes;\n",
        "\n"
      ],
      "metadata": {
        "id": "rIkzg8-uc_ec"
      }
    },
    {
      "cell_type": "code",
      "source": [
        "# verificando  as porcentagens de dados ausentes\n",
        "(df.isnull().sum()/ df.shape[0]).sort_values(ascending=False)"
      ],
      "metadata": {
        "colab": {
          "base_uri": "https://localhost:8080/"
        },
        "id": "zkg5xFXOaeB-",
        "outputId": "b6f2a346-d64a-4390-b012-8f74eed1137c"
      },
      "execution_count": null,
      "outputs": [
        {
          "output_type": "execute_result",
          "data": {
            "text/plain": [
              "neighbourhood_group               1.000000\n",
              "reviews_per_month                 0.086635\n",
              "last_review                       0.086635\n",
              "license                           0.006664\n",
              "host_name                         0.000185\n",
              "longitude                         0.000000\n",
              "name                              0.000000\n",
              "host_id                           0.000000\n",
              "neighbourhood                     0.000000\n",
              "latitude                          0.000000\n",
              "room_type                         0.000000\n",
              "number_of_reviews_ltm             0.000000\n",
              "price                             0.000000\n",
              "minimum_nights                    0.000000\n",
              "number_of_reviews                 0.000000\n",
              "calculated_host_listings_count    0.000000\n",
              "availability_365                  0.000000\n",
              "id                                0.000000\n",
              "dtype: float64"
            ]
          },
          "metadata": {},
          "execution_count": 8
        }
      ]
    },
    {
      "cell_type": "markdown",
      "source": [
        "Colunas com baixo poder preditivo e grande quantidade de dados faltantes podem ser excluídas.\n",
        "\n",
        "**Vamos excluír as colunas com dados faltantes e com baixo valor preditivo que não terão relevância para o projeto em questão.**\\\n",
        "Aqui iremos apagar as variáveis `neighbourhood_group`, `review_per_month`, `last_review`, `license`, `host_name`.\n"
      ],
      "metadata": {
        "id": "tLR7M0ugkk8I"
      }
    },
    {
      "cell_type": "code",
      "source": [
        "# excluindo colunas com dados faltantes\n",
        "df.drop(columns=['neighbourhood_group', 'reviews_per_month', 'last_review', 'license', 'host_name'], inplace=True)"
      ],
      "metadata": {
        "id": "vm-q2qC_znZ2"
      },
      "execution_count": null,
      "outputs": []
    },
    {
      "cell_type": "code",
      "source": [
        "# Verificando novamente a quantidade de dados ausentes\n",
        "(df.isnull().sum()).sort_values(ascending=False)"
      ],
      "metadata": {
        "colab": {
          "base_uri": "https://localhost:8080/"
        },
        "id": "wRFdzjh55WS8",
        "outputId": "f295083e-2dc5-4f3a-c753-fd665517aff9"
      },
      "execution_count": null,
      "outputs": [
        {
          "output_type": "execute_result",
          "data": {
            "text/plain": [
              "number_of_reviews_ltm             0\n",
              "availability_365                  0\n",
              "calculated_host_listings_count    0\n",
              "number_of_reviews                 0\n",
              "minimum_nights                    0\n",
              "price                             0\n",
              "room_type                         0\n",
              "longitude                         0\n",
              "latitude                          0\n",
              "neighbourhood                     0\n",
              "host_id                           0\n",
              "name                              0\n",
              "id                                0\n",
              "dtype: int64"
            ]
          },
          "metadata": {},
          "execution_count": 10
        }
      ]
    },
    {
      "cell_type": "markdown",
      "source": [
        "## **Q3. Qual o tipo de distribuição das variáveis?**\n",
        "\n",
        "Uma das melhoires formas de visualizar como as variáveis estão distribuídas é com a plotagem de um histograma. "
      ],
      "metadata": {
        "id": "GctAzPzrIsXW"
      }
    },
    {
      "cell_type": "code",
      "source": [
        "# plotar o histograma das variáveis numéricas\n",
        "df.hist(bins=15, figsize=(15,10));"
      ],
      "metadata": {
        "colab": {
          "base_uri": "https://localhost:8080/",
          "height": 607
        },
        "id": "5rvTnRu0Iq0A",
        "outputId": "f354bf64-ef07-474b-afa7-7485c864fa7c"
      },
      "execution_count": null,
      "outputs": [
        {
          "output_type": "display_data",
          "data": {
            "image/png": "[encoded data removed]",
            "text/plain": [
              "<Figure size 1080x720 with 12 Axes>"
            ]
          },
          "metadata": {
            "needs_background": "light"
          }
        }
      ]
    },
    {
      "cell_type": "markdown",
      "source": [
        "## **Q4. Há outliers presentes?**"
      ],
      "metadata": {
        "id": "UQlXC4H2YKoY"
      }
    },
    {
      "cell_type": "markdown",
      "source": [
        "Podemos notar que alguns gráficos não seguem uma distribuição, que é um forte indicio de *outlier*, para confirmar a presença de outliers, temos duas formas de fazer isso rapidamente, são elas:\n",
        "\n",
        "* Resumo estatístico, através do método *describe()*\n",
        "* Plotagem de *boxplot* para a variável."
      ],
      "metadata": {
        "id": "p-KmIjRmZMIc"
      }
    },
    {
      "cell_type": "code",
      "source": [
        "# verificando a distribuição estatística\n",
        "df.describe()"
      ],
      "metadata": {
        "colab": {
          "base_uri": "https://localhost:8080/",
          "height": 364
        },
        "id": "esb56IUiffIE",
        "outputId": "06557108-3442-48e0-a1fa-8626ff3d6dca"
      },
      "execution_count": null,
      "outputs": [
        {
          "output_type": "execute_result",
          "data": {
            "text/html": [
              "\n",
              "  <div id=\"df-e217fb2e-ec3b-4c65-a027-1bf15df56a5a\">\n",
              "    <div class=\"colab-df-container\">\n",
              "      <div>\n",
              "<style scoped>\n",
              "    .dataframe tbody tr th:only-of-type {\n",
              "        vertical-align: middle;\n",
              "    }\n",
              "\n",
              "    .dataframe tbody tr th {\n",
              "        vertical-align: top;\n",
              "    }\n",
              "\n",
              "    .dataframe thead th {\n",
              "        text-align: right;\n",
              "    }\n",
              "</style>\n",
              "<table border=\"1\" class=\"dataframe\">\n",
              "  <thead>\n",
              "    <tr style=\"text-align: right;\">\n",
              "      <th></th>\n",
              "      <th>id</th>\n",
              "      <th>host_id</th>\n",
              "      <th>latitude</th>\n",
              "      <th>longitude</th>\n",
              "      <th>price</th>\n",
              "      <th>minimum_nights</th>\n",
              "      <th>number_of_reviews</th>\n",
              "      <th>calculated_host_listings_count</th>\n",
              "      <th>availability_365</th>\n",
              "      <th>number_of_reviews_ltm</th>\n",
              "    </tr>\n",
              "  </thead>\n",
              "  <tbody>\n",
              "    <tr>\n",
              "      <th>count</th>\n",
              "      <td>5.402000e+03</td>\n",
              "      <td>5.402000e+03</td>\n",
              "      <td>5402.000000</td>\n",
              "      <td>5402.000000</td>\n",
              "      <td>5402.000000</td>\n",
              "      <td>5402.00000</td>\n",
              "      <td>5402.000000</td>\n",
              "      <td>5402.000000</td>\n",
              "      <td>5402.000000</td>\n",
              "      <td>5402.000000</td>\n",
              "    </tr>\n",
              "    <tr>\n",
              "      <th>mean</th>\n",
              "      <td>2.514490e+07</td>\n",
              "      <td>8.717240e+07</td>\n",
              "      <td>52.367058</td>\n",
              "      <td>4.891532</td>\n",
              "      <td>169.002777</td>\n",
              "      <td>3.80174</td>\n",
              "      <td>49.400407</td>\n",
              "      <td>2.188078</td>\n",
              "      <td>101.988338</td>\n",
              "      <td>5.214180</td>\n",
              "    </tr>\n",
              "    <tr>\n",
              "      <th>std</th>\n",
              "      <td>1.635076e+07</td>\n",
              "      <td>1.133920e+08</td>\n",
              "      <td>0.016975</td>\n",
              "      <td>0.036314</td>\n",
              "      <td>163.856758</td>\n",
              "      <td>24.49360</td>\n",
              "      <td>88.637090</td>\n",
              "      <td>3.160899</td>\n",
              "      <td>126.425968</td>\n",
              "      <td>15.547749</td>\n",
              "    </tr>\n",
              "    <tr>\n",
              "      <th>min</th>\n",
              "      <td>2.818000e+03</td>\n",
              "      <td>3.159000e+03</td>\n",
              "      <td>52.290340</td>\n",
              "      <td>4.755710</td>\n",
              "      <td>0.000000</td>\n",
              "      <td>1.00000</td>\n",
              "      <td>0.000000</td>\n",
              "      <td>1.000000</td>\n",
              "      <td>0.000000</td>\n",
              "      <td>0.000000</td>\n",
              "    </tr>\n",
              "    <tr>\n",
              "      <th>25%</th>\n",
              "      <td>1.104046e+07</td>\n",
              "      <td>8.820505e+06</td>\n",
              "      <td>52.356630</td>\n",
              "      <td>4.869590</td>\n",
              "      <td>100.000000</td>\n",
              "      <td>2.00000</td>\n",
              "      <td>5.000000</td>\n",
              "      <td>1.000000</td>\n",
              "      <td>0.000000</td>\n",
              "      <td>0.000000</td>\n",
              "    </tr>\n",
              "    <tr>\n",
              "      <th>50%</th>\n",
              "      <td>2.367064e+07</td>\n",
              "      <td>2.972255e+07</td>\n",
              "      <td>52.366595</td>\n",
              "      <td>4.888670</td>\n",
              "      <td>140.000000</td>\n",
              "      <td>2.00000</td>\n",
              "      <td>17.000000</td>\n",
              "      <td>1.000000</td>\n",
              "      <td>32.000000</td>\n",
              "      <td>1.000000</td>\n",
              "    </tr>\n",
              "    <tr>\n",
              "      <th>75%</th>\n",
              "      <td>3.983068e+07</td>\n",
              "      <td>1.292072e+08</td>\n",
              "      <td>52.376540</td>\n",
              "      <td>4.908607</td>\n",
              "      <td>200.000000</td>\n",
              "      <td>3.00000</td>\n",
              "      <td>49.000000</td>\n",
              "      <td>2.000000</td>\n",
              "      <td>197.000000</td>\n",
              "      <td>5.000000</td>\n",
              "    </tr>\n",
              "    <tr>\n",
              "      <th>max</th>\n",
              "      <td>5.314008e+07</td>\n",
              "      <td>4.301123e+08</td>\n",
              "      <td>52.425120</td>\n",
              "      <td>5.026430</td>\n",
              "      <td>6477.000000</td>\n",
              "      <td>1001.00000</td>\n",
              "      <td>889.000000</td>\n",
              "      <td>22.000000</td>\n",
              "      <td>365.000000</td>\n",
              "      <td>475.000000</td>\n",
              "    </tr>\n",
              "  </tbody>\n",
              "</table>\n",
              "</div>\n",
              "      <button class=\"colab-df-convert\" onclick=\"convertToInteractive('df-e217fb2e-ec3b-4c65-a027-1bf15df56a5a')\"\n",
              "              title=\"Convert this dataframe to an interactive table.\"\n",
              "              style=\"display:none;\">\n",
              "        \n",
              "  <svg xmlns=\"http://www.w3.org/2000/svg\" height=\"24px\"viewBox=\"0 0 24 24\"\n",
              "       width=\"24px\">\n",
              "    <path d=\"M0 0h24v24H0V0z\" fill=\"none\"/>\n",
              "    <path d=\"M18.56 5.44l.94 2.06.94-2.06 2.06-.94-2.06-.94-.94-2.06-.94 2.06-2.06.94zm-11 1L8.5 8.5l.94-2.06 2.06-.94-2.06-.94L8.5 2.5l-.94 2.06-2.06.94zm10 10l.94 2.06.94-2.06 2.06-.94-2.06-.94-.94-2.06-.94 2.06-2.06.94z\"/><path d=\"M17.41 7.96l-1.37-1.37c-.4-.4-.92-.59-1.43-.59-.52 0-1.04.2-1.43.59L10.3 9.45l-7.72 7.72c-.78.78-.78 2.05 0 2.83L4 21.41c.39.39.9.59 1.41.59.51 0 1.02-.2 1.41-.59l7.78-7.78 2.81-2.81c.8-.78.8-2.07 0-2.86zM5.41 20L4 18.59l7.72-7.72 1.47 1.35L5.41 20z\"/>\n",
              "  </svg>\n",
              "      </button>\n",
              "      \n",
              "  <style>\n",
              "    .colab-df-container {\n",
              "      display:flex;\n",
              "      flex-wrap:wrap;\n",
              "      gap: 12px;\n",
              "    }\n",
              "\n",
              "    .colab-df-convert {\n",
              "      background-color: #E8F0FE;\n",
              "      border: none;\n",
              "      border-radius: 50%;\n",
              "      cursor: pointer;\n",
              "      display: none;\n",
              "      fill: #1967D2;\n",
              "      height: 32px;\n",
              "      padding: 0 0 0 0;\n",
              "      width: 32px;\n",
              "    }\n",
              "\n",
              "    .colab-df-convert:hover {\n",
              "      background-color: #E2EBFA;\n",
              "      box-shadow: 0px 1px 2px rgba(60, 64, 67, 0.3), 0px 1px 3px 1px rgba(60, 64, 67, 0.15);\n",
              "      fill: #174EA6;\n",
              "    }\n",
              "\n",
              "    [theme=dark] .colab-df-convert {\n",
              "      background-color: #3B4455;\n",
              "      fill: #D2E3FC;\n",
              "    }\n",
              "\n",
              "    [theme=dark] .colab-df-convert:hover {\n",
              "      background-color: #434B5C;\n",
              "      box-shadow: 0px 1px 3px 1px rgba(0, 0, 0, 0.15);\n",
              "      filter: drop-shadow(0px 1px 2px rgba(0, 0, 0, 0.3));\n",
              "      fill: #FFFFFF;\n",
              "    }\n",
              "  </style>\n",
              "\n",
              "      <script>\n",
              "        const buttonEl =\n",
              "          document.querySelector('#df-e217fb2e-ec3b-4c65-a027-1bf15df56a5a button.colab-df-convert');\n",
              "        buttonEl.style.display =\n",
              "          google.colab.kernel.accessAllowed ? 'block' : 'none';\n",
              "\n",
              "        async function convertToInteractive(key) {\n",
              "          const element = document.querySelector('#df-e217fb2e-ec3b-4c65-a027-1bf15df56a5a');\n",
              "          const dataTable =\n",
              "            await google.colab.kernel.invokeFunction('convertToInteractive',\n",
              "                                                     [key], {});\n",
              "          if (!dataTable) return;\n",
              "\n",
              "          const docLinkHtml = 'Like what you see? Visit the ' +\n",
              "            '<a target=\"_blank\" href=https://colab.research.google.com/notebooks/data_table.ipynb>data table notebook</a>'\n",
              "            + ' to learn more about interactive tables.';\n",
              "          element.innerHTML = '';\n",
              "          dataTable['output_type'] = 'display_data';\n",
              "          await google.colab.output.renderOutput(dataTable, element);\n",
              "          const docLink = document.createElement('div');\n",
              "          docLink.innerHTML = docLinkHtml;\n",
              "          element.appendChild(docLink);\n",
              "        }\n",
              "      </script>\n",
              "    </div>\n",
              "  </div>\n",
              "  "
            ],
            "text/plain": [
              "                 id       host_id  ...  availability_365  number_of_reviews_ltm\n",
              "count  5.402000e+03  5.402000e+03  ...       5402.000000            5402.000000\n",
              "mean   2.514490e+07  8.717240e+07  ...        101.988338               5.214180\n",
              "std    1.635076e+07  1.133920e+08  ...        126.425968              15.547749\n",
              "min    2.818000e+03  3.159000e+03  ...          0.000000               0.000000\n",
              "25%    1.104046e+07  8.820505e+06  ...          0.000000               0.000000\n",
              "50%    2.367064e+07  2.972255e+07  ...         32.000000               1.000000\n",
              "75%    3.983068e+07  1.292072e+08  ...        197.000000               5.000000\n",
              "max    5.314008e+07  4.301123e+08  ...        365.000000             475.000000\n",
              "\n",
              "[8 rows x 10 columns]"
            ]
          },
          "metadata": {},
          "execution_count": 12
        }
      ]
    },
    {
      "cell_type": "markdown",
      "source": [
        "Após verificar a distribuição estatística, podemos notar que alguns dados não condizem com a realidade, são eles:\n",
        "\n",
        "* A variável `price` tem valor mínimo 0;\n",
        "* A variável `price` tem  um Q3 em 200, mas tem um valor máximo de 6477 euros, isso é um indicio claro da presença de *outliers*.\n",
        "* A variável `minimum_nights` (Quantidade mínima de noites) apresenta um valor máximo de 1001 noites, algo muito superior aos 365 dias de um ano.\n"
      ],
      "metadata": {
        "id": "oeje9-2Viqul"
      }
    },
    {
      "cell_type": "markdown",
      "source": [
        "## Limpando os Outliers\n",
        "\n",
        "Como a análise estatística já foi feita para tratar os outliers serão plotados boxplots e calculados os limites utilizando a regra do IQR score.\n",
        "\n",
        "O IQR é calculado subtraindo o Terceiro Quartil(75%) pelo Primeiro Quartil(25%).\n",
        "\n",
        "Para o tratamento dos outliers vamos seguir os seguintes passos:\n",
        "\n",
        "* Definir Q1 e Q3 das variáveis a serem limpas;\n",
        "* Calcular o IQR das variáveis;\n",
        "* Definir os limites: superior e inferior para cortar os outliers;\n",
        "* Remover os outliers"
      ],
      "metadata": {
        "id": "DycdxYY47KUX"
      }
    },
    {
      "cell_type": "code",
      "source": [
        "# Identificando os outliers para a variável price\n",
        "q1_price = df.price.quantile(.25)\n",
        "q3_price = df.price.quantile(.75)\n",
        "IQR_price = q3_price - q1_price\n",
        "print('IQR da variável price: ', IQR_price)\n",
        "\n",
        "# Definindo os limites\n",
        "sup_price = q3_price + 1.5 * IQR_price\n",
        "inf_price = q1_price - 1.5 * IQR_price\n",
        "\n",
        "print('Limite superior de price: ', sup_price)\n",
        "print('Limite inferior de price: ', inf_price)"
      ],
      "metadata": {
        "colab": {
          "base_uri": "https://localhost:8080/"
        },
        "id": "P5E89hyvvUr_",
        "outputId": "a0f69f41-b2cc-4700-81e1-a93889fb0cb3"
      },
      "execution_count": null,
      "outputs": [
        {
          "output_type": "stream",
          "name": "stdout",
          "text": [
            "IQR da variável price:  100.0\n",
            "Limite superior de price:  350.0\n",
            "Limite inferior de price:  -50.0\n"
          ]
        }
      ]
    },
    {
      "cell_type": "markdown",
      "source": [
        "Aqui podemos ver que apesar de não existirem outliers na parte inferior, temos valores iguais a zero que precisam ser tratados.\n",
        "\n",
        "Iremos plotar um boxplot para visualizar a limpeza feita. O zero não é considerado um outlier inferior, mas é um dado que não condiz com a realidade e por isso precisa ser excluído."
      ],
      "metadata": {
        "id": "fVHD3MVtzltT"
      }
    },
    {
      "cell_type": "code",
      "source": [
        "# Verificando o conjunto original\n",
        "fig, ax = plt.subplots(figsize=(15,3))\n",
        "df.price.plot(kind='box', vert=False);\n",
        "ax.set_title('Dataset com outliers - Price')\n",
        "plt.show()\n",
        "print(\"O dataset possui {} colunas\".format(df.shape[0]))\n",
        "print(\"{} Entradas acima de 350.0\".format(len(df[df.price > 350.0])))\n",
        "print(\"Representam {:.2f}% do dataset\".format((len(df[df.price > 350.0]) / df.shape[0])*100))"
      ],
      "metadata": {
        "colab": {
          "base_uri": "https://localhost:8080/",
          "height": 279
        },
        "id": "v2867bBE0tDS",
        "outputId": "e00725a2-a210-42b7-aba4-00d1f1020000"
      },
      "execution_count": null,
      "outputs": [
        {
          "output_type": "display_data",
          "data": {
            "image/png": "[encoded data removed]",
            "text/plain": [
              "<Figure size 1080x216 with 1 Axes>"
            ]
          },
          "metadata": {
            "needs_background": "light"
          }
        },
        {
          "output_type": "stream",
          "name": "stdout",
          "text": [
            "O dataset possui 5402 colunas\n",
            "257 Entradas acima de 350.0\n",
            "Representam 4.76% do dataset\n"
          ]
        }
      ]
    },
    {
      "cell_type": "code",
      "source": [
        "# identificando os outliers para a variável minimum_nights\n",
        "q1_minimum_nights = df.minimum_nights.quantile(.25)\n",
        "q3_minimum_nights = df.minimum_nights.quantile(.75)\n",
        "IQR_minimum_nights = q3_minimum_nights - q1_minimum_nights\n",
        "print('IQR da variável minimum_nights: ', IQR_minimum_nights)\n",
        "\n",
        "# definindo os limites                                       \n",
        "sup_minimum_nights = q3_minimum_nights + 1.5 * IQR_minimum_nights\n",
        "inf_minimum_nights = q1_minimum_nights - 1.5 * IQR_minimum_nights\n",
        "\n",
        "print('Limite superior de minimum_nights: ', sup_minimum_nights)\n",
        "print('Limite inferior de minimum_nights: ', inf_minimum_nights)"
      ],
      "metadata": {
        "id": "gnjrYBxh8RrS",
        "colab": {
          "base_uri": "https://localhost:8080/"
        },
        "outputId": "407c404c-52f8-4c56-a148-46bfd89ae00f"
      },
      "execution_count": null,
      "outputs": [
        {
          "output_type": "stream",
          "name": "stdout",
          "text": [
            "IQR da variável minimum_nights:  1.0\n",
            "Limite superior de minimum_nights:  4.5\n",
            "Limite inferior de minimum_nights:  0.5\n"
          ]
        }
      ]
    },
    {
      "cell_type": "code",
      "source": [
        "# verificando o conjunto original\n",
        "fig, ax = plt.subplots(figsize=(15,3))\n",
        "df.minimum_nights.plot(kind='box', vert=False);\n",
        "ax.set_title('Dataset com outliers - minimum_nights')\n",
        "plt.show()\n",
        "print(\"O dataset possui {} colunas\".format(df.shape[0]))\n",
        "print(\"{} Entradas acima de 350.0\".format(len(df[df.minimum_nights > 4.5])))\n",
        "print(\"Representam {:.2f}% do dataset\".format((len(df[df.minimum_nights > 4.5]) / df.shape[0])*100))"
      ],
      "metadata": {
        "colab": {
          "base_uri": "https://localhost:8080/",
          "height": 279
        },
        "id": "JRw2HVms9Ias",
        "outputId": "bb09efaf-fa29-46d1-8867-e04e98929032"
      },
      "execution_count": null,
      "outputs": [
        {
          "output_type": "display_data",
          "data": {
            "image/png": "[encoded data removed]",
            "text/plain": [
              "<Figure size 1080x216 with 1 Axes>"
            ]
          },
          "metadata": {
            "needs_background": "light"
          }
        },
        {
          "output_type": "stream",
          "name": "stdout",
          "text": [
            "O dataset possui 5402 colunas\n",
            "721 Entradas acima de 350.0\n",
            "Representam 13.35% do dataset\n"
          ]
        }
      ]
    },
    {
      "cell_type": "markdown",
      "source": [
        "Agora vamos eliminar os outliers dos nossos dados, além dos dados com valor 0.\n",
        "Para isso criamos uma cópia do nosso dataset original chamada: `df_clean`, o que assegura um ponto de retorno caso seja necessário verificar algo no conjunto original antes da limpeza."
      ],
      "metadata": {
        "id": "ZLGxAXWyI16y"
      }
    },
    {
      "cell_type": "code",
      "source": [
        "# limpando o dataset\n",
        "df_clean = df.copy()\n",
        "\n",
        "df_clean.drop(df_clean[df_clean.price > 350.0].index, axis=0, inplace=True)\n",
        "df_clean.drop(df_clean[df_clean.price == 0.0].index, axis=0, inplace=True)\n",
        "df_clean.drop(df_clean[df_clean.minimum_nights > 4.5].index, axis=0, inplace=True)\n",
        "\n",
        "print('Shape antes da limpeza: ', df.shape)\n",
        "print('Shape após a limpeza: ',df_clean.shape)"
      ],
      "metadata": {
        "colab": {
          "base_uri": "https://localhost:8080/"
        },
        "id": "Zkjecd-a9o4p",
        "outputId": "d2237c92-53d5-4d3b-df06-b1bf29a76548"
      },
      "execution_count": null,
      "outputs": [
        {
          "output_type": "stream",
          "name": "stdout",
          "text": [
            "Shape antes da limpeza:  (5402, 13)\n",
            "Shape após a limpeza:  (4450, 13)\n"
          ]
        }
      ]
    },
    {
      "cell_type": "code",
      "source": [
        "# plotando novamente o boxplot original\n",
        "fig, ax = plt.subplots(figsize=(15,3))\n",
        "df.price.plot(kind='box', vert=False);\n",
        "ax.set_title('Dataset com outliers - price')\n",
        "plt.show()\n",
        "print(\"O dataset possui {} colunas\".format(df.shape[0]))\n",
        "print(\"{} Entradas acima de 350.0\".format(len(df[df.price > 350.0])))\n",
        "print(\"Representam {:.2f}% do dataset\".format((len(df[df.price > 350.0]) / df.shape[0])*100))"
      ],
      "metadata": {
        "colab": {
          "base_uri": "https://localhost:8080/",
          "height": 279
        },
        "id": "0HrJ0FRI-KhR",
        "outputId": "d9fd6a4c-2387-46cf-afd3-b7d56ebd15da"
      },
      "execution_count": null,
      "outputs": [
        {
          "output_type": "display_data",
          "data": {
            "image/png": "[encoded data removed]",
            "text/plain": [
              "<Figure size 1080x216 with 1 Axes>"
            ]
          },
          "metadata": {
            "needs_background": "light"
          }
        },
        {
          "output_type": "stream",
          "name": "stdout",
          "text": [
            "O dataset possui 5402 colunas\n",
            "257 Entradas acima de 350.0\n",
            "Representam 4.76% do dataset\n"
          ]
        }
      ]
    },
    {
      "cell_type": "code",
      "source": [
        "# verificando o conjunto limpo\n",
        "fig, ax = plt.subplots(figsize=(15,3))\n",
        "df_clean.price.plot(kind='box', vert=False);\n",
        "ax.set_title('Dataset Limpo - price')\n",
        "plt.show()\n",
        "print(\"Tamanho original: {} colunas\".format(df.shape[0]))\n",
        "print(\"Tamanho atual: {} colunas\".format(df_clean.shape[0]))"
      ],
      "metadata": {
        "colab": {
          "base_uri": "https://localhost:8080/",
          "height": 262
        },
        "id": "aiHENcBI-sr2",
        "outputId": "661c1a2b-6214-4f9e-9d2c-228eb5d98643"
      },
      "execution_count": null,
      "outputs": [
        {
          "output_type": "display_data",
          "data": {
            "image/png": "[encoded data removed]",
            "text/plain": [
              "<Figure size 1080x216 with 1 Axes>"
            ]
          },
          "metadata": {
            "needs_background": "light"
          }
        },
        {
          "output_type": "stream",
          "name": "stdout",
          "text": [
            "Tamanho original: 5402 colunas\n",
            "Tamanho atual: 4450 colunas\n"
          ]
        }
      ]
    },
    {
      "cell_type": "markdown",
      "source": [
        "Agora que a limpeza foi feita podemos observar que o boxplot nos mostra  alguns dados como outliers, mas estes dados estão relacionados ao novo dataset e a limpeza levou em consideração os quartís do conjunto de dados originais.\n",
        "\n",
        "**Vamos verificar novamente o histograma com as distribuições das variáveis numéricas e o resume estatístico.**"
      ],
      "metadata": {
        "id": "lHKOmj2c80LG"
      }
    },
    {
      "cell_type": "code",
      "source": [
        "# verificando as distribuições\n",
        "df_clean.hist(figsize=(15,10), grid=False);"
      ],
      "metadata": {
        "colab": {
          "base_uri": "https://localhost:8080/",
          "height": 607
        },
        "id": "7bCauMp_FOvP",
        "outputId": "fe0c992a-98b0-477e-9c14-c43d3af06901"
      },
      "execution_count": null,
      "outputs": [
        {
          "output_type": "display_data",
          "data": {
            "image/png": "[encoded data removed]",
            "text/plain": [
              "<Figure size 1080x720 with 12 Axes>"
            ]
          },
          "metadata": {
            "needs_background": "light"
          }
        }
      ]
    },
    {
      "cell_type": "code",
      "source": [
        "# Resumo estatístico após a limpeza dos dados\n",
        "df_clean.describe()"
      ],
      "metadata": {
        "colab": {
          "base_uri": "https://localhost:8080/",
          "height": 364
        },
        "id": "mBDUvn456Whj",
        "outputId": "cbfe432f-4ee2-4de4-cf4d-b5283d7a142a"
      },
      "execution_count": null,
      "outputs": [
        {
          "output_type": "execute_result",
          "data": {
            "text/html": [
              "\n",
              "  <div id=\"df-74ccae66-a401-4252-ab4c-71f49f7f7cd0\">\n",
              "    <div class=\"colab-df-container\">\n",
              "      <div>\n",
              "<style scoped>\n",
              "    .dataframe tbody tr th:only-of-type {\n",
              "        vertical-align: middle;\n",
              "    }\n",
              "\n",
              "    .dataframe tbody tr th {\n",
              "        vertical-align: top;\n",
              "    }\n",
              "\n",
              "    .dataframe thead th {\n",
              "        text-align: right;\n",
              "    }\n",
              "</style>\n",
              "<table border=\"1\" class=\"dataframe\">\n",
              "  <thead>\n",
              "    <tr style=\"text-align: right;\">\n",
              "      <th></th>\n",
              "      <th>id</th>\n",
              "      <th>host_id</th>\n",
              "      <th>latitude</th>\n",
              "      <th>longitude</th>\n",
              "      <th>price</th>\n",
              "      <th>minimum_nights</th>\n",
              "      <th>number_of_reviews</th>\n",
              "      <th>calculated_host_listings_count</th>\n",
              "      <th>availability_365</th>\n",
              "      <th>number_of_reviews_ltm</th>\n",
              "    </tr>\n",
              "  </thead>\n",
              "  <tbody>\n",
              "    <tr>\n",
              "      <th>count</th>\n",
              "      <td>4.450000e+03</td>\n",
              "      <td>4.450000e+03</td>\n",
              "      <td>4450.000000</td>\n",
              "      <td>4450.000000</td>\n",
              "      <td>4450.000000</td>\n",
              "      <td>4450.000000</td>\n",
              "      <td>4450.000000</td>\n",
              "      <td>4450.000000</td>\n",
              "      <td>4450.000000</td>\n",
              "      <td>4450.000000</td>\n",
              "    </tr>\n",
              "    <tr>\n",
              "      <th>mean</th>\n",
              "      <td>2.518384e+07</td>\n",
              "      <td>9.001471e+07</td>\n",
              "      <td>52.367174</td>\n",
              "      <td>4.891537</td>\n",
              "      <td>148.269438</td>\n",
              "      <td>2.237978</td>\n",
              "      <td>55.103820</td>\n",
              "      <td>2.175506</td>\n",
              "      <td>102.617528</td>\n",
              "      <td>5.946292</td>\n",
              "    </tr>\n",
              "    <tr>\n",
              "      <th>std</th>\n",
              "      <td>1.620377e+07</td>\n",
              "      <td>1.144425e+08</td>\n",
              "      <td>0.017191</td>\n",
              "      <td>0.036336</td>\n",
              "      <td>68.846871</td>\n",
              "      <td>0.898412</td>\n",
              "      <td>94.500668</td>\n",
              "      <td>3.128259</td>\n",
              "      <td>126.943349</td>\n",
              "      <td>16.878662</td>\n",
              "    </tr>\n",
              "    <tr>\n",
              "      <th>min</th>\n",
              "      <td>2.818000e+03</td>\n",
              "      <td>3.159000e+03</td>\n",
              "      <td>52.290340</td>\n",
              "      <td>4.755710</td>\n",
              "      <td>9.000000</td>\n",
              "      <td>1.000000</td>\n",
              "      <td>0.000000</td>\n",
              "      <td>1.000000</td>\n",
              "      <td>0.000000</td>\n",
              "      <td>0.000000</td>\n",
              "    </tr>\n",
              "    <tr>\n",
              "      <th>25%</th>\n",
              "      <td>1.136115e+07</td>\n",
              "      <td>9.487706e+06</td>\n",
              "      <td>52.356683</td>\n",
              "      <td>4.869193</td>\n",
              "      <td>96.000000</td>\n",
              "      <td>2.000000</td>\n",
              "      <td>6.000000</td>\n",
              "      <td>1.000000</td>\n",
              "      <td>0.000000</td>\n",
              "      <td>0.000000</td>\n",
              "    </tr>\n",
              "    <tr>\n",
              "      <th>50%</th>\n",
              "      <td>2.375814e+07</td>\n",
              "      <td>3.225683e+07</td>\n",
              "      <td>52.366895</td>\n",
              "      <td>4.888987</td>\n",
              "      <td>135.000000</td>\n",
              "      <td>2.000000</td>\n",
              "      <td>20.000000</td>\n",
              "      <td>1.000000</td>\n",
              "      <td>31.000000</td>\n",
              "      <td>1.000000</td>\n",
              "    </tr>\n",
              "    <tr>\n",
              "      <th>75%</th>\n",
              "      <td>3.968043e+07</td>\n",
              "      <td>1.374071e+08</td>\n",
              "      <td>52.376638</td>\n",
              "      <td>4.908715</td>\n",
              "      <td>188.750000</td>\n",
              "      <td>3.000000</td>\n",
              "      <td>55.000000</td>\n",
              "      <td>2.000000</td>\n",
              "      <td>200.000000</td>\n",
              "      <td>5.000000</td>\n",
              "    </tr>\n",
              "    <tr>\n",
              "      <th>max</th>\n",
              "      <td>5.314008e+07</td>\n",
              "      <td>4.301123e+08</td>\n",
              "      <td>52.425120</td>\n",
              "      <td>5.026430</td>\n",
              "      <td>350.000000</td>\n",
              "      <td>4.000000</td>\n",
              "      <td>889.000000</td>\n",
              "      <td>22.000000</td>\n",
              "      <td>365.000000</td>\n",
              "      <td>475.000000</td>\n",
              "    </tr>\n",
              "  </tbody>\n",
              "</table>\n",
              "</div>\n",
              "      <button class=\"colab-df-convert\" onclick=\"convertToInteractive('df-74ccae66-a401-4252-ab4c-71f49f7f7cd0')\"\n",
              "              title=\"Convert this dataframe to an interactive table.\"\n",
              "              style=\"display:none;\">\n",
              "        \n",
              "  <svg xmlns=\"http://www.w3.org/2000/svg\" height=\"24px\"viewBox=\"0 0 24 24\"\n",
              "       width=\"24px\">\n",
              "    <path d=\"M0 0h24v24H0V0z\" fill=\"none\"/>\n",
              "    <path d=\"M18.56 5.44l.94 2.06.94-2.06 2.06-.94-2.06-.94-.94-2.06-.94 2.06-2.06.94zm-11 1L8.5 8.5l.94-2.06 2.06-.94-2.06-.94L8.5 2.5l-.94 2.06-2.06.94zm10 10l.94 2.06.94-2.06 2.06-.94-2.06-.94-.94-2.06-.94 2.06-2.06.94z\"/><path d=\"M17.41 7.96l-1.37-1.37c-.4-.4-.92-.59-1.43-.59-.52 0-1.04.2-1.43.59L10.3 9.45l-7.72 7.72c-.78.78-.78 2.05 0 2.83L4 21.41c.39.39.9.59 1.41.59.51 0 1.02-.2 1.41-.59l7.78-7.78 2.81-2.81c.8-.78.8-2.07 0-2.86zM5.41 20L4 18.59l7.72-7.72 1.47 1.35L5.41 20z\"/>\n",
              "  </svg>\n",
              "      </button>\n",
              "      \n",
              "  <style>\n",
              "    .colab-df-container {\n",
              "      display:flex;\n",
              "      flex-wrap:wrap;\n",
              "      gap: 12px;\n",
              "    }\n",
              "\n",
              "    .colab-df-convert {\n",
              "      background-color: #E8F0FE;\n",
              "      border: none;\n",
              "      border-radius: 50%;\n",
              "      cursor: pointer;\n",
              "      display: none;\n",
              "      fill: #1967D2;\n",
              "      height: 32px;\n",
              "      padding: 0 0 0 0;\n",
              "      width: 32px;\n",
              "    }\n",
              "\n",
              "    .colab-df-convert:hover {\n",
              "      background-color: #E2EBFA;\n",
              "      box-shadow: 0px 1px 2px rgba(60, 64, 67, 0.3), 0px 1px 3px 1px rgba(60, 64, 67, 0.15);\n",
              "      fill: #174EA6;\n",
              "    }\n",
              "\n",
              "    [theme=dark] .colab-df-convert {\n",
              "      background-color: #3B4455;\n",
              "      fill: #D2E3FC;\n",
              "    }\n",
              "\n",
              "    [theme=dark] .colab-df-convert:hover {\n",
              "      background-color: #434B5C;\n",
              "      box-shadow: 0px 1px 3px 1px rgba(0, 0, 0, 0.15);\n",
              "      filter: drop-shadow(0px 1px 2px rgba(0, 0, 0, 0.3));\n",
              "      fill: #FFFFFF;\n",
              "    }\n",
              "  </style>\n",
              "\n",
              "      <script>\n",
              "        const buttonEl =\n",
              "          document.querySelector('#df-74ccae66-a401-4252-ab4c-71f49f7f7cd0 button.colab-df-convert');\n",
              "        buttonEl.style.display =\n",
              "          google.colab.kernel.accessAllowed ? 'block' : 'none';\n",
              "\n",
              "        async function convertToInteractive(key) {\n",
              "          const element = document.querySelector('#df-74ccae66-a401-4252-ab4c-71f49f7f7cd0');\n",
              "          const dataTable =\n",
              "            await google.colab.kernel.invokeFunction('convertToInteractive',\n",
              "                                                     [key], {});\n",
              "          if (!dataTable) return;\n",
              "\n",
              "          const docLinkHtml = 'Like what you see? Visit the ' +\n",
              "            '<a target=\"_blank\" href=https://colab.research.google.com/notebooks/data_table.ipynb>data table notebook</a>'\n",
              "            + ' to learn more about interactive tables.';\n",
              "          element.innerHTML = '';\n",
              "          dataTable['output_type'] = 'display_data';\n",
              "          await google.colab.output.renderOutput(dataTable, element);\n",
              "          const docLink = document.createElement('div');\n",
              "          docLink.innerHTML = docLinkHtml;\n",
              "          element.appendChild(docLink);\n",
              "        }\n",
              "      </script>\n",
              "    </div>\n",
              "  </div>\n",
              "  "
            ],
            "text/plain": [
              "                 id       host_id  ...  availability_365  number_of_reviews_ltm\n",
              "count  4.450000e+03  4.450000e+03  ...       4450.000000            4450.000000\n",
              "mean   2.518384e+07  9.001471e+07  ...        102.617528               5.946292\n",
              "std    1.620377e+07  1.144425e+08  ...        126.943349              16.878662\n",
              "min    2.818000e+03  3.159000e+03  ...          0.000000               0.000000\n",
              "25%    1.136115e+07  9.487706e+06  ...          0.000000               0.000000\n",
              "50%    2.375814e+07  3.225683e+07  ...         31.000000               1.000000\n",
              "75%    3.968043e+07  1.374071e+08  ...        200.000000               5.000000\n",
              "max    5.314008e+07  4.301123e+08  ...        365.000000             475.000000\n",
              "\n",
              "[8 rows x 10 columns]"
            ]
          },
          "metadata": {},
          "execution_count": 21
        }
      ]
    },
    {
      "cell_type": "markdown",
      "source": [
        "* Notamos que a variáveis `price ` e `minimum_nights` condizem com a realidade e agora podem nos ajudar a fazer uma análise mais detalhada dos dados e insights que podemos obter.\n",
        "* Também podemos observar a sutil mudança na  da variável `price`, mostrando como é um atributo robusto e confiável."
      ],
      "metadata": {
        "id": "2bQrLo9Jgf70"
      }
    },
    {
      "cell_type": "markdown",
      "source": [
        "## **Q4. Qual a média dos preços de aluguel?**\n",
        "\n",
        "A média dos valores dos alugueis é de 148 euros."
      ],
      "metadata": {
        "id": "s6UcdLC7k29-"
      }
    },
    {
      "cell_type": "code",
      "source": [
        "# Média de preços dos aluguéis\n",
        "df_clean.price.mean()"
      ],
      "metadata": {
        "colab": {
          "base_uri": "https://localhost:8080/"
        },
        "id": "uVDXjKAVkT9d",
        "outputId": "c9b7e6a0-9541-47c8-a3aa-f74bd756f9a9"
      },
      "execution_count": null,
      "outputs": [
        {
          "output_type": "execute_result",
          "data": {
            "text/plain": [
              "148.2694382022472"
            ]
          },
          "metadata": {},
          "execution_count": 22
        }
      ]
    },
    {
      "cell_type": "markdown",
      "source": [
        "## **Q4. Qual a correlação existente entre as variáveis**\n",
        "\n",
        "Correlação significa que existe uma relação entre duas coisas. Nesse caso, estamos buscando relação ou semelhança entre duas variáveis.\n",
        "\n",
        "Essa relação pode ser medida, e é função do coeficiente de correlação estabelecer qual a intensidade dela. Para identificar as correlações existentes entre as variáveis de interesse, vou:\n",
        "\n",
        "Criar uma matriz de correlação\n",
        "Gerar um heatmap a partir dessa matriz, usando a biblioteca seaborn"
      ],
      "metadata": {
        "id": "PRgsn4FGTiQ6"
      }
    },
    {
      "cell_type": "code",
      "source": [
        "# criar uma matriz de correlação\n",
        "corr = df_clean[['price', 'minimum_nights', 'number_of_reviews',\n",
        "    'calculated_host_listings_count', 'availability_365']].corr()\n",
        "\n",
        "display(corr)"
      ],
      "metadata": {
        "colab": {
          "base_uri": "https://localhost:8080/",
          "height": 206
        },
        "id": "7ib259BRXRFH",
        "outputId": "2c48585b-ea4c-433b-d74e-9c99d403934a"
      },
      "execution_count": null,
      "outputs": [
        {
          "output_type": "display_data",
          "data": {
            "text/html": [
              "\n",
              "  <div id=\"df-d7ea9cdc-e714-4dc8-af87-06c20996c97e\">\n",
              "    <div class=\"colab-df-container\">\n",
              "      <div>\n",
              "<style scoped>\n",
              "    .dataframe tbody tr th:only-of-type {\n",
              "        vertical-align: middle;\n",
              "    }\n",
              "\n",
              "    .dataframe tbody tr th {\n",
              "        vertical-align: top;\n",
              "    }\n",
              "\n",
              "    .dataframe thead th {\n",
              "        text-align: right;\n",
              "    }\n",
              "</style>\n",
              "<table border=\"1\" class=\"dataframe\">\n",
              "  <thead>\n",
              "    <tr style=\"text-align: right;\">\n",
              "      <th></th>\n",
              "      <th>price</th>\n",
              "      <th>minimum_nights</th>\n",
              "      <th>number_of_reviews</th>\n",
              "      <th>calculated_host_listings_count</th>\n",
              "      <th>availability_365</th>\n",
              "    </tr>\n",
              "  </thead>\n",
              "  <tbody>\n",
              "    <tr>\n",
              "      <th>price</th>\n",
              "      <td>1.000000</td>\n",
              "      <td>0.129636</td>\n",
              "      <td>-0.246530</td>\n",
              "      <td>-0.055916</td>\n",
              "      <td>-0.005366</td>\n",
              "    </tr>\n",
              "    <tr>\n",
              "      <th>minimum_nights</th>\n",
              "      <td>0.129636</td>\n",
              "      <td>1.000000</td>\n",
              "      <td>-0.131059</td>\n",
              "      <td>-0.305177</td>\n",
              "      <td>-0.265459</td>\n",
              "    </tr>\n",
              "    <tr>\n",
              "      <th>number_of_reviews</th>\n",
              "      <td>-0.246530</td>\n",
              "      <td>-0.131059</td>\n",
              "      <td>1.000000</td>\n",
              "      <td>-0.044519</td>\n",
              "      <td>0.231884</td>\n",
              "    </tr>\n",
              "    <tr>\n",
              "      <th>calculated_host_listings_count</th>\n",
              "      <td>-0.055916</td>\n",
              "      <td>-0.305177</td>\n",
              "      <td>-0.044519</td>\n",
              "      <td>1.000000</td>\n",
              "      <td>0.254511</td>\n",
              "    </tr>\n",
              "    <tr>\n",
              "      <th>availability_365</th>\n",
              "      <td>-0.005366</td>\n",
              "      <td>-0.265459</td>\n",
              "      <td>0.231884</td>\n",
              "      <td>0.254511</td>\n",
              "      <td>1.000000</td>\n",
              "    </tr>\n",
              "  </tbody>\n",
              "</table>\n",
              "</div>\n",
              "      <button class=\"colab-df-convert\" onclick=\"convertToInteractive('df-d7ea9cdc-e714-4dc8-af87-06c20996c97e')\"\n",
              "              title=\"Convert this dataframe to an interactive table.\"\n",
              "              style=\"display:none;\">\n",
              "        \n",
              "  <svg xmlns=\"http://www.w3.org/2000/svg\" height=\"24px\"viewBox=\"0 0 24 24\"\n",
              "       width=\"24px\">\n",
              "    <path d=\"M0 0h24v24H0V0z\" fill=\"none\"/>\n",
              "    <path d=\"M18.56 5.44l.94 2.06.94-2.06 2.06-.94-2.06-.94-.94-2.06-.94 2.06-2.06.94zm-11 1L8.5 8.5l.94-2.06 2.06-.94-2.06-.94L8.5 2.5l-.94 2.06-2.06.94zm10 10l.94 2.06.94-2.06 2.06-.94-2.06-.94-.94-2.06-.94 2.06-2.06.94z\"/><path d=\"M17.41 7.96l-1.37-1.37c-.4-.4-.92-.59-1.43-.59-.52 0-1.04.2-1.43.59L10.3 9.45l-7.72 7.72c-.78.78-.78 2.05 0 2.83L4 21.41c.39.39.9.59 1.41.59.51 0 1.02-.2 1.41-.59l7.78-7.78 2.81-2.81c.8-.78.8-2.07 0-2.86zM5.41 20L4 18.59l7.72-7.72 1.47 1.35L5.41 20z\"/>\n",
              "  </svg>\n",
              "      </button>\n",
              "      \n",
              "  <style>\n",
              "    .colab-df-container {\n",
              "      display:flex;\n",
              "      flex-wrap:wrap;\n",
              "      gap: 12px;\n",
              "    }\n",
              "\n",
              "    .colab-df-convert {\n",
              "      background-color: #E8F0FE;\n",
              "      border: none;\n",
              "      border-radius: 50%;\n",
              "      cursor: pointer;\n",
              "      display: none;\n",
              "      fill: #1967D2;\n",
              "      height: 32px;\n",
              "      padding: 0 0 0 0;\n",
              "      width: 32px;\n",
              "    }\n",
              "\n",
              "    .colab-df-convert:hover {\n",
              "      background-color: #E2EBFA;\n",
              "      box-shadow: 0px 1px 2px rgba(60, 64, 67, 0.3), 0px 1px 3px 1px rgba(60, 64, 67, 0.15);\n",
              "      fill: #174EA6;\n",
              "    }\n",
              "\n",
              "    [theme=dark] .colab-df-convert {\n",
              "      background-color: #3B4455;\n",
              "      fill: #D2E3FC;\n",
              "    }\n",
              "\n",
              "    [theme=dark] .colab-df-convert:hover {\n",
              "      background-color: #434B5C;\n",
              "      box-shadow: 0px 1px 3px 1px rgba(0, 0, 0, 0.15);\n",
              "      filter: drop-shadow(0px 1px 2px rgba(0, 0, 0, 0.3));\n",
              "      fill: #FFFFFF;\n",
              "    }\n",
              "  </style>\n",
              "\n",
              "      <script>\n",
              "        const buttonEl =\n",
              "          document.querySelector('#df-d7ea9cdc-e714-4dc8-af87-06c20996c97e button.colab-df-convert');\n",
              "        buttonEl.style.display =\n",
              "          google.colab.kernel.accessAllowed ? 'block' : 'none';\n",
              "\n",
              "        async function convertToInteractive(key) {\n",
              "          const element = document.querySelector('#df-d7ea9cdc-e714-4dc8-af87-06c20996c97e');\n",
              "          const dataTable =\n",
              "            await google.colab.kernel.invokeFunction('convertToInteractive',\n",
              "                                                     [key], {});\n",
              "          if (!dataTable) return;\n",
              "\n",
              "          const docLinkHtml = 'Like what you see? Visit the ' +\n",
              "            '<a target=\"_blank\" href=https://colab.research.google.com/notebooks/data_table.ipynb>data table notebook</a>'\n",
              "            + ' to learn more about interactive tables.';\n",
              "          element.innerHTML = '';\n",
              "          dataTable['output_type'] = 'display_data';\n",
              "          await google.colab.output.renderOutput(dataTable, element);\n",
              "          const docLink = document.createElement('div');\n",
              "          docLink.innerHTML = docLinkHtml;\n",
              "          element.appendChild(docLink);\n",
              "        }\n",
              "      </script>\n",
              "    </div>\n",
              "  </div>\n",
              "  "
            ],
            "text/plain": [
              "                                   price  ...  availability_365\n",
              "price                           1.000000  ...         -0.005366\n",
              "minimum_nights                  0.129636  ...         -0.265459\n",
              "number_of_reviews              -0.246530  ...          0.231884\n",
              "calculated_host_listings_count -0.055916  ...          0.254511\n",
              "availability_365               -0.005366  ...          1.000000\n",
              "\n",
              "[5 rows x 5 columns]"
            ]
          },
          "metadata": {}
        }
      ]
    },
    {
      "cell_type": "code",
      "source": [
        "sns.heatmap(corr, cmap='RdBu', fmt='.2f', square=True, linecolor='white', annot=True);"
      ],
      "metadata": {
        "colab": {
          "base_uri": "https://localhost:8080/",
          "height": 411
        },
        "id": "fYD-XCcrY4iI",
        "outputId": "60873e8b-eed3-4faf-c08e-33e8a284161c"
      },
      "execution_count": null,
      "outputs": [
        {
          "output_type": "display_data",
          "data": {
            "image/png": "[encoded data removed]",
            "text/plain": [
              "<Figure size 432x288 with 2 Axes>"
            ]
          },
          "metadata": {
            "needs_background": "light"
          }
        }
      ]
    },
    {
      "cell_type": "code",
      "source": [
        "# criar uma matriz de correlação\n",
        "corr_1 = df[['price', 'minimum_nights', 'number_of_reviews',\n",
        "    'calculated_host_listings_count', 'availability_365']].corr()\n",
        "\n",
        "display(corr_1)"
      ],
      "metadata": {
        "colab": {
          "base_uri": "https://localhost:8080/",
          "height": 206
        },
        "id": "JIKjNRTCoZxa",
        "outputId": "cd978f53-5e30-4cd8-af0c-d81037a2dced"
      },
      "execution_count": null,
      "outputs": [
        {
          "output_type": "display_data",
          "data": {
            "text/html": [
              "\n",
              "  <div id=\"df-ffa91d12-32e6-41e4-8cae-7f4fcef7a0cb\">\n",
              "    <div class=\"colab-df-container\">\n",
              "      <div>\n",
              "<style scoped>\n",
              "    .dataframe tbody tr th:only-of-type {\n",
              "        vertical-align: middle;\n",
              "    }\n",
              "\n",
              "    .dataframe tbody tr th {\n",
              "        vertical-align: top;\n",
              "    }\n",
              "\n",
              "    .dataframe thead th {\n",
              "        text-align: right;\n",
              "    }\n",
              "</style>\n",
              "<table border=\"1\" class=\"dataframe\">\n",
              "  <thead>\n",
              "    <tr style=\"text-align: right;\">\n",
              "      <th></th>\n",
              "      <th>price</th>\n",
              "      <th>minimum_nights</th>\n",
              "      <th>number_of_reviews</th>\n",
              "      <th>calculated_host_listings_count</th>\n",
              "      <th>availability_365</th>\n",
              "    </tr>\n",
              "  </thead>\n",
              "  <tbody>\n",
              "    <tr>\n",
              "      <th>price</th>\n",
              "      <td>1.000000</td>\n",
              "      <td>-0.009594</td>\n",
              "      <td>-0.136287</td>\n",
              "      <td>0.007591</td>\n",
              "      <td>0.075066</td>\n",
              "    </tr>\n",
              "    <tr>\n",
              "      <th>minimum_nights</th>\n",
              "      <td>-0.009594</td>\n",
              "      <td>1.000000</td>\n",
              "      <td>-0.012624</td>\n",
              "      <td>-0.018157</td>\n",
              "      <td>-0.016130</td>\n",
              "    </tr>\n",
              "    <tr>\n",
              "      <th>number_of_reviews</th>\n",
              "      <td>-0.136287</td>\n",
              "      <td>-0.012624</td>\n",
              "      <td>1.000000</td>\n",
              "      <td>-0.041617</td>\n",
              "      <td>0.216325</td>\n",
              "    </tr>\n",
              "    <tr>\n",
              "      <th>calculated_host_listings_count</th>\n",
              "      <td>0.007591</td>\n",
              "      <td>-0.018157</td>\n",
              "      <td>-0.041617</td>\n",
              "      <td>1.000000</td>\n",
              "      <td>0.255450</td>\n",
              "    </tr>\n",
              "    <tr>\n",
              "      <th>availability_365</th>\n",
              "      <td>0.075066</td>\n",
              "      <td>-0.016130</td>\n",
              "      <td>0.216325</td>\n",
              "      <td>0.255450</td>\n",
              "      <td>1.000000</td>\n",
              "    </tr>\n",
              "  </tbody>\n",
              "</table>\n",
              "</div>\n",
              "      <button class=\"colab-df-convert\" onclick=\"convertToInteractive('df-ffa91d12-32e6-41e4-8cae-7f4fcef7a0cb')\"\n",
              "              title=\"Convert this dataframe to an interactive table.\"\n",
              "              style=\"display:none;\">\n",
              "        \n",
              "  <svg xmlns=\"http://www.w3.org/2000/svg\" height=\"24px\"viewBox=\"0 0 24 24\"\n",
              "       width=\"24px\">\n",
              "    <path d=\"M0 0h24v24H0V0z\" fill=\"none\"/>\n",
              "    <path d=\"M18.56 5.44l.94 2.06.94-2.06 2.06-.94-2.06-.94-.94-2.06-.94 2.06-2.06.94zm-11 1L8.5 8.5l.94-2.06 2.06-.94-2.06-.94L8.5 2.5l-.94 2.06-2.06.94zm10 10l.94 2.06.94-2.06 2.06-.94-2.06-.94-.94-2.06-.94 2.06-2.06.94z\"/><path d=\"M17.41 7.96l-1.37-1.37c-.4-.4-.92-.59-1.43-.59-.52 0-1.04.2-1.43.59L10.3 9.45l-7.72 7.72c-.78.78-.78 2.05 0 2.83L4 21.41c.39.39.9.59 1.41.59.51 0 1.02-.2 1.41-.59l7.78-7.78 2.81-2.81c.8-.78.8-2.07 0-2.86zM5.41 20L4 18.59l7.72-7.72 1.47 1.35L5.41 20z\"/>\n",
              "  </svg>\n",
              "      </button>\n",
              "      \n",
              "  <style>\n",
              "    .colab-df-container {\n",
              "      display:flex;\n",
              "      flex-wrap:wrap;\n",
              "      gap: 12px;\n",
              "    }\n",
              "\n",
              "    .colab-df-convert {\n",
              "      background-color: #E8F0FE;\n",
              "      border: none;\n",
              "      border-radius: 50%;\n",
              "      cursor: pointer;\n",
              "      display: none;\n",
              "      fill: #1967D2;\n",
              "      height: 32px;\n",
              "      padding: 0 0 0 0;\n",
              "      width: 32px;\n",
              "    }\n",
              "\n",
              "    .colab-df-convert:hover {\n",
              "      background-color: #E2EBFA;\n",
              "      box-shadow: 0px 1px 2px rgba(60, 64, 67, 0.3), 0px 1px 3px 1px rgba(60, 64, 67, 0.15);\n",
              "      fill: #174EA6;\n",
              "    }\n",
              "\n",
              "    [theme=dark] .colab-df-convert {\n",
              "      background-color: #3B4455;\n",
              "      fill: #D2E3FC;\n",
              "    }\n",
              "\n",
              "    [theme=dark] .colab-df-convert:hover {\n",
              "      background-color: #434B5C;\n",
              "      box-shadow: 0px 1px 3px 1px rgba(0, 0, 0, 0.15);\n",
              "      filter: drop-shadow(0px 1px 2px rgba(0, 0, 0, 0.3));\n",
              "      fill: #FFFFFF;\n",
              "    }\n",
              "  </style>\n",
              "\n",
              "      <script>\n",
              "        const buttonEl =\n",
              "          document.querySelector('#df-ffa91d12-32e6-41e4-8cae-7f4fcef7a0cb button.colab-df-convert');\n",
              "        buttonEl.style.display =\n",
              "          google.colab.kernel.accessAllowed ? 'block' : 'none';\n",
              "\n",
              "        async function convertToInteractive(key) {\n",
              "          const element = document.querySelector('#df-ffa91d12-32e6-41e4-8cae-7f4fcef7a0cb');\n",
              "          const dataTable =\n",
              "            await google.colab.kernel.invokeFunction('convertToInteractive',\n",
              "                                                     [key], {});\n",
              "          if (!dataTable) return;\n",
              "\n",
              "          const docLinkHtml = 'Like what you see? Visit the ' +\n",
              "            '<a target=\"_blank\" href=https://colab.research.google.com/notebooks/data_table.ipynb>data table notebook</a>'\n",
              "            + ' to learn more about interactive tables.';\n",
              "          element.innerHTML = '';\n",
              "          dataTable['output_type'] = 'display_data';\n",
              "          await google.colab.output.renderOutput(dataTable, element);\n",
              "          const docLink = document.createElement('div');\n",
              "          docLink.innerHTML = docLinkHtml;\n",
              "          element.appendChild(docLink);\n",
              "        }\n",
              "      </script>\n",
              "    </div>\n",
              "  </div>\n",
              "  "
            ],
            "text/plain": [
              "                                   price  ...  availability_365\n",
              "price                           1.000000  ...          0.075066\n",
              "minimum_nights                 -0.009594  ...         -0.016130\n",
              "number_of_reviews              -0.136287  ...          0.216325\n",
              "calculated_host_listings_count  0.007591  ...          0.255450\n",
              "availability_365                0.075066  ...          1.000000\n",
              "\n",
              "[5 rows x 5 columns]"
            ]
          },
          "metadata": {}
        }
      ]
    },
    {
      "cell_type": "code",
      "source": [
        "sns.heatmap(corr_1, cmap='RdBu', fmt='.2f', square=True, linecolor='white', annot=True);"
      ],
      "metadata": {
        "colab": {
          "base_uri": "https://localhost:8080/",
          "height": 411
        },
        "id": "FB-Fxfqzp765",
        "outputId": "f9f90acd-0e19-4de3-e09e-4d427000ae62"
      },
      "execution_count": null,
      "outputs": [
        {
          "output_type": "display_data",
          "data": {
            "image/png": "[encoded data removed]",
            "text/plain": [
              "<Figure size 432x288 with 2 Axes>"
            ]
          },
          "metadata": {
            "needs_background": "light"
          }
        }
      ]
    },
    {
      "cell_type": "markdown",
      "source": [
        "Podemos observar que **não houve nenhuma relação linear expressiva das variáveis com a coluna** `price`, pois nenhuma coluna está muito longe do zero. Mas podemos observar que os valores variam antes e depois do tratamento de outliers.\n",
        "\n",
        "* Vemos que a correlação linear entre `price` e `minimum_nights` antes e depois do tratamento d eoutliers é bastante expressiva. Com os outliers presentes a **correlação linear** foi de (-0.01) quase nula, mas para os dados tratados a correlação subiu para (0.13)\n",
        "\n",
        "* Podemos observar que no caso em que os dados foram tratados tivemos uma **correlação linear positiva.**"
      ],
      "metadata": {
        "id": "YPUTpnf1oQsf"
      }
    },
    {
      "cell_type": "markdown",
      "source": [
        "## **Q5. Qual o tipo de imóvel mais alugado no Airbnb?**\n",
        "\n",
        "Acessando o aplicativo ou o site do Airbnb você poderá notar que são disponibilizadas várias opções para aluguel: **apartamentos/ casas inteiras, Quarto compartilhado, Quarto privativo.**\n",
        "\n",
        "Aqui vamos contar a quantidade de ocorrências de cada tipo de aluguel, usando o método value_counts()."
      ],
      "metadata": {
        "id": "ikv3EyU_ZxxF"
      }
    },
    {
      "cell_type": "code",
      "source": [
        "# mostrar a quantidade de cada tipo de imóvel disponível\n",
        "df_clean.room_type.value_counts()"
      ],
      "metadata": {
        "id": "uTXGxXNJ_zfR",
        "colab": {
          "base_uri": "https://localhost:8080/"
        },
        "outputId": "b0e8cfa6-d143-4f2b-aca5-100dd7d7b0e1"
      },
      "execution_count": null,
      "outputs": [
        {
          "output_type": "execute_result",
          "data": {
            "text/plain": [
              "Entire home/apt    2720\n",
              "Private room       1634\n",
              "Hotel room           78\n",
              "Shared room          18\n",
              "Name: room_type, dtype: int64"
            ]
          },
          "metadata": {},
          "execution_count": 27
        }
      ]
    },
    {
      "cell_type": "code",
      "source": [
        "# mostrar a porcentagem de cada tipo de imóvel disponível\n",
        "df_clean.room_type.value_counts() / df_clean.shape[0]"
      ],
      "metadata": {
        "id": "PincXl1bIq5A",
        "colab": {
          "base_uri": "https://localhost:8080/"
        },
        "outputId": "6c413f7d-d32c-4bfc-8b1e-0bf788610315"
      },
      "execution_count": null,
      "outputs": [
        {
          "output_type": "execute_result",
          "data": {
            "text/plain": [
              "Entire home/apt    0.611236\n",
              "Private room       0.367191\n",
              "Hotel room         0.017528\n",
              "Shared room        0.004045\n",
              "Name: room_type, dtype: float64"
            ]
          },
          "metadata": {},
          "execution_count": 28
        }
      ]
    },
    {
      "cell_type": "markdown",
      "source": [
        "## **Q6. Qual a localidade mais cara do dataset?**\n",
        "\n"
      ],
      "metadata": {
        "id": "SGMGJ3VUHlA4"
      }
    },
    {
      "cell_type": "code",
      "source": [
        "df_clean.groupby(['neighbourhood']).price.mean().sort_values(ascending=False)[:10]"
      ],
      "metadata": {
        "id": "fnV5urxCKLok",
        "colab": {
          "base_uri": "https://localhost:8080/"
        },
        "outputId": "3b713cef-d051-492a-d6e1-76932cea7c45"
      },
      "execution_count": null,
      "outputs": [
        {
          "output_type": "execute_result",
          "data": {
            "text/plain": [
              "neighbourhood\n",
              "De Pijp - Rivierenbuurt                   161.910913\n",
              "Centrum-Oost                              160.022680\n",
              "Zuid                                      156.328520\n",
              "Centrum-West                              156.218705\n",
              "Westerpark                                153.760518\n",
              "IJburg - Zeeburgereiland                  152.198347\n",
              "De Baarsjes - Oud-West                    151.792366\n",
              "Watergraafsmeer                           149.587719\n",
              "Oud-Oost                                  145.234375\n",
              "Oostelijk Havengebied - Indische Buurt    137.551724\n",
              "Name: price, dtype: float64"
            ]
          },
          "metadata": {},
          "execution_count": 29
        }
      ]
    },
    {
      "cell_type": "markdown",
      "source": [
        "O bairro **De Pijp - Rivierenbuurt** aparece como o bairro com a maior média de valor do aluguel, sendo de 161 euros.\n",
        "\n",
        "É um bairro moderno com cafés charmosos, bares subterrâneos e uma boa quantidade de arte de rua. O Albert Cuypmarkt é imperdível, é um mercado diário de comida com lojas descoladas e ótima comida de rua. Você pode encontrar roupas peculiares, comida de rua, bem como frutas e vegetais frescos. De Pijp está repleto de cafés, restaurantes, cafés e bares fantásticos. O Pijp é perfeito para quem quer morar em um bairro movimentado e com localização central.\n",
        "\n",
        "Vamos ver a quantidade de imóveis nesse bairro para garantir que o preço mpédio não esteja sendo enviesado."
      ],
      "metadata": {
        "id": "aoQoHbMfeZBZ"
      }
    },
    {
      "cell_type": "code",
      "source": [
        "# ver quantidade de imóveis para De Pijp - Rivierenbuurt \n",
        "\n",
        "print(df_clean[df_clean.neighbourhood == \"De Pijp - Rivierenbuurt\"].shape)\n",
        "\n",
        "# ver as entradas para Near South Side\n",
        "\n",
        "df_clean[df_clean.neighbourhood == \"De Pijp - Rivierenbuurt\"]"
      ],
      "metadata": {
        "id": "kCaO_8SXKVdg",
        "colab": {
          "base_uri": "https://localhost:8080/",
          "height": 887
        },
        "outputId": "91a09f75-7b25-4ce7-bc4c-563f9250ea1a"
      },
      "execution_count": null,
      "outputs": [
        {
          "output_type": "stream",
          "name": "stdout",
          "text": [
            "(449, 13)\n"
          ]
        },
        {
          "output_type": "execute_result",
          "data": {
            "text/html": [
              "\n",
              "  <div id=\"df-894d50eb-dff4-4071-97ee-0830568014bd\">\n",
              "    <div class=\"colab-df-container\">\n",
              "      <div>\n",
              "<style scoped>\n",
              "    .dataframe tbody tr th:only-of-type {\n",
              "        vertical-align: middle;\n",
              "    }\n",
              "\n",
              "    .dataframe tbody tr th {\n",
              "        vertical-align: top;\n",
              "    }\n",
              "\n",
              "    .dataframe thead th {\n",
              "        text-align: right;\n",
              "    }\n",
              "</style>\n",
              "<table border=\"1\" class=\"dataframe\">\n",
              "  <thead>\n",
              "    <tr style=\"text-align: right;\">\n",
              "      <th></th>\n",
              "      <th>id</th>\n",
              "      <th>name</th>\n",
              "      <th>host_id</th>\n",
              "      <th>neighbourhood</th>\n",
              "      <th>latitude</th>\n",
              "      <th>longitude</th>\n",
              "      <th>room_type</th>\n",
              "      <th>price</th>\n",
              "      <th>minimum_nights</th>\n",
              "      <th>number_of_reviews</th>\n",
              "      <th>calculated_host_listings_count</th>\n",
              "      <th>availability_365</th>\n",
              "      <th>number_of_reviews_ltm</th>\n",
              "    </tr>\n",
              "  </thead>\n",
              "  <tbody>\n",
              "    <tr>\n",
              "      <th>10</th>\n",
              "      <td>55621</td>\n",
              "      <td>Fully equiped house, PIJP area = great</td>\n",
              "      <td>262846</td>\n",
              "      <td>De Pijp - Rivierenbuurt</td>\n",
              "      <td>52.353990</td>\n",
              "      <td>4.897560</td>\n",
              "      <td>Entire home/apt</td>\n",
              "      <td>222</td>\n",
              "      <td>3</td>\n",
              "      <td>32</td>\n",
              "      <td>1</td>\n",
              "      <td>0</td>\n",
              "      <td>0</td>\n",
              "    </tr>\n",
              "    <tr>\n",
              "      <th>19</th>\n",
              "      <td>91535</td>\n",
              "      <td>Privat room and shared Houseboat \"Ramona\" centre</td>\n",
              "      <td>494281</td>\n",
              "      <td>De Pijp - Rivierenbuurt</td>\n",
              "      <td>52.357740</td>\n",
              "      <td>4.896470</td>\n",
              "      <td>Private room</td>\n",
              "      <td>115</td>\n",
              "      <td>1</td>\n",
              "      <td>45</td>\n",
              "      <td>1</td>\n",
              "      <td>54</td>\n",
              "      <td>1</td>\n",
              "    </tr>\n",
              "    <tr>\n",
              "      <th>23</th>\n",
              "      <td>137026</td>\n",
              "      <td>Entire house with garden in De Pijp</td>\n",
              "      <td>670266</td>\n",
              "      <td>De Pijp - Rivierenbuurt</td>\n",
              "      <td>52.351780</td>\n",
              "      <td>4.906990</td>\n",
              "      <td>Entire home/apt</td>\n",
              "      <td>200</td>\n",
              "      <td>3</td>\n",
              "      <td>97</td>\n",
              "      <td>1</td>\n",
              "      <td>90</td>\n",
              "      <td>0</td>\n",
              "    </tr>\n",
              "    <tr>\n",
              "      <th>40</th>\n",
              "      <td>255809</td>\n",
              "      <td>stylish apartment free car parking and 2 bikes</td>\n",
              "      <td>1344947</td>\n",
              "      <td>De Pijp - Rivierenbuurt</td>\n",
              "      <td>52.344160</td>\n",
              "      <td>4.887090</td>\n",
              "      <td>Private room</td>\n",
              "      <td>135</td>\n",
              "      <td>2</td>\n",
              "      <td>100</td>\n",
              "      <td>1</td>\n",
              "      <td>319</td>\n",
              "      <td>10</td>\n",
              "    </tr>\n",
              "    <tr>\n",
              "      <th>56</th>\n",
              "      <td>327285</td>\n",
              "      <td>beautiful designed ap.+bikes+garden</td>\n",
              "      <td>1672823</td>\n",
              "      <td>De Pijp - Rivierenbuurt</td>\n",
              "      <td>52.356250</td>\n",
              "      <td>4.893230</td>\n",
              "      <td>Private room</td>\n",
              "      <td>148</td>\n",
              "      <td>3</td>\n",
              "      <td>535</td>\n",
              "      <td>2</td>\n",
              "      <td>0</td>\n",
              "      <td>0</td>\n",
              "    </tr>\n",
              "    <tr>\n",
              "      <th>...</th>\n",
              "      <td>...</td>\n",
              "      <td>...</td>\n",
              "      <td>...</td>\n",
              "      <td>...</td>\n",
              "      <td>...</td>\n",
              "      <td>...</td>\n",
              "      <td>...</td>\n",
              "      <td>...</td>\n",
              "      <td>...</td>\n",
              "      <td>...</td>\n",
              "      <td>...</td>\n",
              "      <td>...</td>\n",
              "      <td>...</td>\n",
              "    </tr>\n",
              "    <tr>\n",
              "      <th>5343</th>\n",
              "      <td>52785666</td>\n",
              "      <td>Fully equipped apartment in de Amsterdamse Pijp</td>\n",
              "      <td>427335130</td>\n",
              "      <td>De Pijp - Rivierenbuurt</td>\n",
              "      <td>52.349520</td>\n",
              "      <td>4.888550</td>\n",
              "      <td>Entire home/apt</td>\n",
              "      <td>108</td>\n",
              "      <td>3</td>\n",
              "      <td>0</td>\n",
              "      <td>1</td>\n",
              "      <td>96</td>\n",
              "      <td>0</td>\n",
              "    </tr>\n",
              "    <tr>\n",
              "      <th>5348</th>\n",
              "      <td>52827266</td>\n",
              "      <td>Lovely apartment with sunny balcony in the Pijp</td>\n",
              "      <td>17861243</td>\n",
              "      <td>De Pijp - Rivierenbuurt</td>\n",
              "      <td>52.351850</td>\n",
              "      <td>4.896630</td>\n",
              "      <td>Entire home/apt</td>\n",
              "      <td>149</td>\n",
              "      <td>3</td>\n",
              "      <td>0</td>\n",
              "      <td>1</td>\n",
              "      <td>43</td>\n",
              "      <td>0</td>\n",
              "    </tr>\n",
              "    <tr>\n",
              "      <th>5361</th>\n",
              "      <td>52877343</td>\n",
              "      <td>Atmospheric apartment in Rivierenbuurt</td>\n",
              "      <td>38006487</td>\n",
              "      <td>De Pijp - Rivierenbuurt</td>\n",
              "      <td>52.342890</td>\n",
              "      <td>4.901610</td>\n",
              "      <td>Entire home/apt</td>\n",
              "      <td>150</td>\n",
              "      <td>3</td>\n",
              "      <td>0</td>\n",
              "      <td>1</td>\n",
              "      <td>292</td>\n",
              "      <td>0</td>\n",
              "    </tr>\n",
              "    <tr>\n",
              "      <th>5375</th>\n",
              "      <td>52964536</td>\n",
              "      <td>Clean, bright and central apartment in vivid a...</td>\n",
              "      <td>16177681</td>\n",
              "      <td>De Pijp - Rivierenbuurt</td>\n",
              "      <td>52.353010</td>\n",
              "      <td>4.898720</td>\n",
              "      <td>Entire home/apt</td>\n",
              "      <td>143</td>\n",
              "      <td>1</td>\n",
              "      <td>0</td>\n",
              "      <td>1</td>\n",
              "      <td>41</td>\n",
              "      <td>0</td>\n",
              "    </tr>\n",
              "    <tr>\n",
              "      <th>5392</th>\n",
              "      <td>53077427</td>\n",
              "      <td>Spacious apartment in the centre of de Pijp!</td>\n",
              "      <td>85505501</td>\n",
              "      <td>De Pijp - Rivierenbuurt</td>\n",
              "      <td>52.354482</td>\n",
              "      <td>4.891194</td>\n",
              "      <td>Entire home/apt</td>\n",
              "      <td>144</td>\n",
              "      <td>3</td>\n",
              "      <td>0</td>\n",
              "      <td>1</td>\n",
              "      <td>12</td>\n",
              "      <td>0</td>\n",
              "    </tr>\n",
              "  </tbody>\n",
              "</table>\n",
              "<p>449 rows × 13 columns</p>\n",
              "</div>\n",
              "      <button class=\"colab-df-convert\" onclick=\"convertToInteractive('df-894d50eb-dff4-4071-97ee-0830568014bd')\"\n",
              "              title=\"Convert this dataframe to an interactive table.\"\n",
              "              style=\"display:none;\">\n",
              "        \n",
              "  <svg xmlns=\"http://www.w3.org/2000/svg\" height=\"24px\"viewBox=\"0 0 24 24\"\n",
              "       width=\"24px\">\n",
              "    <path d=\"M0 0h24v24H0V0z\" fill=\"none\"/>\n",
              "    <path d=\"M18.56 5.44l.94 2.06.94-2.06 2.06-.94-2.06-.94-.94-2.06-.94 2.06-2.06.94zm-11 1L8.5 8.5l.94-2.06 2.06-.94-2.06-.94L8.5 2.5l-.94 2.06-2.06.94zm10 10l.94 2.06.94-2.06 2.06-.94-2.06-.94-.94-2.06-.94 2.06-2.06.94z\"/><path d=\"M17.41 7.96l-1.37-1.37c-.4-.4-.92-.59-1.43-.59-.52 0-1.04.2-1.43.59L10.3 9.45l-7.72 7.72c-.78.78-.78 2.05 0 2.83L4 21.41c.39.39.9.59 1.41.59.51 0 1.02-.2 1.41-.59l7.78-7.78 2.81-2.81c.8-.78.8-2.07 0-2.86zM5.41 20L4 18.59l7.72-7.72 1.47 1.35L5.41 20z\"/>\n",
              "  </svg>\n",
              "      </button>\n",
              "      \n",
              "  <style>\n",
              "    .colab-df-container {\n",
              "      display:flex;\n",
              "      flex-wrap:wrap;\n",
              "      gap: 12px;\n",
              "    }\n",
              "\n",
              "    .colab-df-convert {\n",
              "      background-color: #E8F0FE;\n",
              "      border: none;\n",
              "      border-radius: 50%;\n",
              "      cursor: pointer;\n",
              "      display: none;\n",
              "      fill: #1967D2;\n",
              "      height: 32px;\n",
              "      padding: 0 0 0 0;\n",
              "      width: 32px;\n",
              "    }\n",
              "\n",
              "    .colab-df-convert:hover {\n",
              "      background-color: #E2EBFA;\n",
              "      box-shadow: 0px 1px 2px rgba(60, 64, 67, 0.3), 0px 1px 3px 1px rgba(60, 64, 67, 0.15);\n",
              "      fill: #174EA6;\n",
              "    }\n",
              "\n",
              "    [theme=dark] .colab-df-convert {\n",
              "      background-color: #3B4455;\n",
              "      fill: #D2E3FC;\n",
              "    }\n",
              "\n",
              "    [theme=dark] .colab-df-convert:hover {\n",
              "      background-color: #434B5C;\n",
              "      box-shadow: 0px 1px 3px 1px rgba(0, 0, 0, 0.15);\n",
              "      filter: drop-shadow(0px 1px 2px rgba(0, 0, 0, 0.3));\n",
              "      fill: #FFFFFF;\n",
              "    }\n",
              "  </style>\n",
              "\n",
              "      <script>\n",
              "        const buttonEl =\n",
              "          document.querySelector('#df-894d50eb-dff4-4071-97ee-0830568014bd button.colab-df-convert');\n",
              "        buttonEl.style.display =\n",
              "          google.colab.kernel.accessAllowed ? 'block' : 'none';\n",
              "\n",
              "        async function convertToInteractive(key) {\n",
              "          const element = document.querySelector('#df-894d50eb-dff4-4071-97ee-0830568014bd');\n",
              "          const dataTable =\n",
              "            await google.colab.kernel.invokeFunction('convertToInteractive',\n",
              "                                                     [key], {});\n",
              "          if (!dataTable) return;\n",
              "\n",
              "          const docLinkHtml = 'Like what you see? Visit the ' +\n",
              "            '<a target=\"_blank\" href=https://colab.research.google.com/notebooks/data_table.ipynb>data table notebook</a>'\n",
              "            + ' to learn more about interactive tables.';\n",
              "          element.innerHTML = '';\n",
              "          dataTable['output_type'] = 'display_data';\n",
              "          await google.colab.output.renderOutput(dataTable, element);\n",
              "          const docLink = document.createElement('div');\n",
              "          docLink.innerHTML = docLinkHtml;\n",
              "          element.appendChild(docLink);\n",
              "        }\n",
              "      </script>\n",
              "    </div>\n",
              "  </div>\n",
              "  "
            ],
            "text/plain": [
              "            id  ... number_of_reviews_ltm\n",
              "10       55621  ...                     0\n",
              "19       91535  ...                     1\n",
              "23      137026  ...                     0\n",
              "40      255809  ...                    10\n",
              "56      327285  ...                     0\n",
              "...        ...  ...                   ...\n",
              "5343  52785666  ...                     0\n",
              "5348  52827266  ...                     0\n",
              "5361  52877343  ...                     0\n",
              "5375  52964536  ...                     0\n",
              "5392  53077427  ...                     0\n",
              "\n",
              "[449 rows x 13 columns]"
            ]
          },
          "metadata": {},
          "execution_count": 30
        }
      ]
    },
    {
      "cell_type": "markdown",
      "source": [
        "Como são fornecidas as Latitudes e Longitudes para os imóveis, é possível plotar cada ponto. Para isso, considera-se `x=longitude` e `y=latitude`."
      ],
      "metadata": {
        "id": "S8iibbGvw7jc"
      }
    },
    {
      "cell_type": "code",
      "source": [
        "# plotar os imóveis pela latitude-longitude\n",
        "df_clean.plot(kind=\"scatter\", x='longitude', y='latitude', alpha=0.4, c=df_clean['price'], s=8,\n",
        "              cmap=plt.get_cmap('jet'), figsize=(12,8));"
      ],
      "metadata": {
        "id": "jnGsFlltxEKd",
        "colab": {
          "base_uri": "https://localhost:8080/",
          "height": 473
        },
        "outputId": "8263333b-3d69-4f0d-b000-01ea5c655449"
      },
      "execution_count": null,
      "outputs": [
        {
          "output_type": "display_data",
          "data": {
            "image/png": "[encoded data removed]",
            "text/plain": [
              "<Figure size 864x576 with 2 Axes>"
            ]
          },
          "metadata": {
            "needs_background": "light"
          }
        }
      ]
    },
    {
      "cell_type": "markdown",
      "source": [
        "## **Q7. Qual é a média do mínimo de noites para aluguel (minimum_nights)?**"
      ],
      "metadata": {
        "id": "Azg5bu6dxPgD"
      }
    },
    {
      "cell_type": "code",
      "source": [
        "# ver a média da coluna minimum_nights\n",
        "df_clean[['minimum_nights']].mean()"
      ],
      "metadata": {
        "id": "XWYhlN7ZxSqv",
        "colab": {
          "base_uri": "https://localhost:8080/"
        },
        "outputId": "a001bdc6-b6a4-457f-b219-506ca1db23d3"
      },
      "execution_count": null,
      "outputs": [
        {
          "output_type": "execute_result",
          "data": {
            "text/plain": [
              "minimum_nights    2.237978\n",
              "dtype: float64"
            ]
          },
          "metadata": {},
          "execution_count": 32
        }
      ]
    },
    {
      "cell_type": "markdown",
      "source": [
        "**A média do mínimo de noites para aluguel é de 2 noites.**"
      ],
      "metadata": {
        "id": "nLIanPxVxzgu"
      }
    },
    {
      "cell_type": "markdown",
      "source": [
        "## **Conclusões**\n",
        "\n",
        "Aqui foi feita apenas uma análise superficial dos dados do Airbnb, mas notamos a presença de outliers em algumas variáveis do dataset e com um tratamento pudemos extrair insights interessantes como:\n",
        "\n",
        "* Mais de 60% dos imóveis disponíveis são casas ou apartamentos inteiros.\n",
        "* Há uma baixa ou nula correlação entre as variáveis.\n",
        "* A maioria das acomodações exige uma estadia mínima de 2 dias\n",
        "* Os alugueis tem um valor médio de ¢148,26.\n",
        "\n",
        "Recomenda-see que seja usado em uma futura análise exploratória mais detalhada o conjunto com os dados completos com 74 atributos disponíveis, mas para quem deseja visitar Amsterdã no futuro a versão resumida já da uma visão inicial."
      ],
      "metadata": {
        "id": "H2f-sXr4ySx1"
      }
    }
  ]
}